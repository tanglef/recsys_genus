{
 "cells": [
  {
   "cell_type": "code",
   "execution_count": 1,
   "metadata": {},
   "outputs": [],
   "source": [
    "import pandas as pd\n",
    "import numpy as np\n",
    "import seaborn as sns\n",
    "import matplotlib.pyplot as plt"
   ]
  },
  {
   "cell_type": "code",
   "execution_count": 3,
   "metadata": {},
   "outputs": [
    {
     "name": "stderr",
     "output_type": "stream",
     "text": [
      "/tmp/ipykernel_1057888/1570839442.py:1: ParserWarning: Length of header or names does not match length of data. This leads to a loss of data with index_col=False.\n",
      "  movie_df = pd.read_csv(\n"
     ]
    },
    {
     "data": {
      "text/html": [
       "<div>\n",
       "<style scoped>\n",
       "    .dataframe tbody tr th:only-of-type {\n",
       "        vertical-align: middle;\n",
       "    }\n",
       "\n",
       "    .dataframe tbody tr th {\n",
       "        vertical-align: top;\n",
       "    }\n",
       "\n",
       "    .dataframe thead th {\n",
       "        text-align: right;\n",
       "    }\n",
       "</style>\n",
       "<table border=\"1\" class=\"dataframe\">\n",
       "  <thead>\n",
       "    <tr style=\"text-align: right;\">\n",
       "      <th></th>\n",
       "      <th>movie_id</th>\n",
       "      <th>movie_title</th>\n",
       "      <th>release_date</th>\n",
       "      <th>video_release_date</th>\n",
       "      <th>imdb_url</th>\n",
       "      <th>unknown</th>\n",
       "      <th>action</th>\n",
       "      <th>adventure</th>\n",
       "      <th>animation</th>\n",
       "      <th>children</th>\n",
       "      <th>...</th>\n",
       "      <th>drama</th>\n",
       "      <th>fantasy</th>\n",
       "      <th>film_noir</th>\n",
       "      <th>horror</th>\n",
       "      <th>musical</th>\n",
       "      <th>mysteryromance</th>\n",
       "      <th>sci_fi</th>\n",
       "      <th>thriller</th>\n",
       "      <th>war</th>\n",
       "      <th>western</th>\n",
       "    </tr>\n",
       "  </thead>\n",
       "  <tbody>\n",
       "    <tr>\n",
       "      <th>0</th>\n",
       "      <td>0</td>\n",
       "      <td>Toy Story (1995)</td>\n",
       "      <td>01-Jan-1995</td>\n",
       "      <td>NaN</td>\n",
       "      <td>http://us.imdb.com/M/title-exact?Toy%20Story%2...</td>\n",
       "      <td>0</td>\n",
       "      <td>0</td>\n",
       "      <td>0</td>\n",
       "      <td>1</td>\n",
       "      <td>1</td>\n",
       "      <td>...</td>\n",
       "      <td>0</td>\n",
       "      <td>0</td>\n",
       "      <td>0</td>\n",
       "      <td>0</td>\n",
       "      <td>0</td>\n",
       "      <td>0</td>\n",
       "      <td>0</td>\n",
       "      <td>0</td>\n",
       "      <td>0</td>\n",
       "      <td>0</td>\n",
       "    </tr>\n",
       "    <tr>\n",
       "      <th>1</th>\n",
       "      <td>1</td>\n",
       "      <td>GoldenEye (1995)</td>\n",
       "      <td>01-Jan-1995</td>\n",
       "      <td>NaN</td>\n",
       "      <td>http://us.imdb.com/M/title-exact?GoldenEye%20(...</td>\n",
       "      <td>0</td>\n",
       "      <td>1</td>\n",
       "      <td>1</td>\n",
       "      <td>0</td>\n",
       "      <td>0</td>\n",
       "      <td>...</td>\n",
       "      <td>0</td>\n",
       "      <td>0</td>\n",
       "      <td>0</td>\n",
       "      <td>0</td>\n",
       "      <td>0</td>\n",
       "      <td>0</td>\n",
       "      <td>0</td>\n",
       "      <td>0</td>\n",
       "      <td>1</td>\n",
       "      <td>0</td>\n",
       "    </tr>\n",
       "    <tr>\n",
       "      <th>2</th>\n",
       "      <td>2</td>\n",
       "      <td>Four Rooms (1995)</td>\n",
       "      <td>01-Jan-1995</td>\n",
       "      <td>NaN</td>\n",
       "      <td>http://us.imdb.com/M/title-exact?Four%20Rooms%...</td>\n",
       "      <td>0</td>\n",
       "      <td>0</td>\n",
       "      <td>0</td>\n",
       "      <td>0</td>\n",
       "      <td>0</td>\n",
       "      <td>...</td>\n",
       "      <td>0</td>\n",
       "      <td>0</td>\n",
       "      <td>0</td>\n",
       "      <td>0</td>\n",
       "      <td>0</td>\n",
       "      <td>0</td>\n",
       "      <td>0</td>\n",
       "      <td>0</td>\n",
       "      <td>1</td>\n",
       "      <td>0</td>\n",
       "    </tr>\n",
       "    <tr>\n",
       "      <th>3</th>\n",
       "      <td>3</td>\n",
       "      <td>Get Shorty (1995)</td>\n",
       "      <td>01-Jan-1995</td>\n",
       "      <td>NaN</td>\n",
       "      <td>http://us.imdb.com/M/title-exact?Get%20Shorty%...</td>\n",
       "      <td>0</td>\n",
       "      <td>1</td>\n",
       "      <td>0</td>\n",
       "      <td>0</td>\n",
       "      <td>0</td>\n",
       "      <td>...</td>\n",
       "      <td>1</td>\n",
       "      <td>0</td>\n",
       "      <td>0</td>\n",
       "      <td>0</td>\n",
       "      <td>0</td>\n",
       "      <td>0</td>\n",
       "      <td>0</td>\n",
       "      <td>0</td>\n",
       "      <td>0</td>\n",
       "      <td>0</td>\n",
       "    </tr>\n",
       "    <tr>\n",
       "      <th>4</th>\n",
       "      <td>4</td>\n",
       "      <td>Copycat (1995)</td>\n",
       "      <td>01-Jan-1995</td>\n",
       "      <td>NaN</td>\n",
       "      <td>http://us.imdb.com/M/title-exact?Copycat%20(1995)</td>\n",
       "      <td>0</td>\n",
       "      <td>0</td>\n",
       "      <td>0</td>\n",
       "      <td>0</td>\n",
       "      <td>0</td>\n",
       "      <td>...</td>\n",
       "      <td>1</td>\n",
       "      <td>0</td>\n",
       "      <td>0</td>\n",
       "      <td>0</td>\n",
       "      <td>0</td>\n",
       "      <td>0</td>\n",
       "      <td>0</td>\n",
       "      <td>0</td>\n",
       "      <td>1</td>\n",
       "      <td>0</td>\n",
       "    </tr>\n",
       "  </tbody>\n",
       "</table>\n",
       "<p>5 rows × 23 columns</p>\n",
       "</div>"
      ],
      "text/plain": [
       "   movie_id        movie_title release_date  video_release_date  \\\n",
       "0         0   Toy Story (1995)  01-Jan-1995                 NaN   \n",
       "1         1   GoldenEye (1995)  01-Jan-1995                 NaN   \n",
       "2         2  Four Rooms (1995)  01-Jan-1995                 NaN   \n",
       "3         3  Get Shorty (1995)  01-Jan-1995                 NaN   \n",
       "4         4     Copycat (1995)  01-Jan-1995                 NaN   \n",
       "\n",
       "                                            imdb_url  unknown  action  \\\n",
       "0  http://us.imdb.com/M/title-exact?Toy%20Story%2...        0       0   \n",
       "1  http://us.imdb.com/M/title-exact?GoldenEye%20(...        0       1   \n",
       "2  http://us.imdb.com/M/title-exact?Four%20Rooms%...        0       0   \n",
       "3  http://us.imdb.com/M/title-exact?Get%20Shorty%...        0       1   \n",
       "4  http://us.imdb.com/M/title-exact?Copycat%20(1995)        0       0   \n",
       "\n",
       "   adventure  animation  children  ...  drama  fantasy  film_noir  horror  \\\n",
       "0          0          1         1  ...      0        0          0       0   \n",
       "1          1          0         0  ...      0        0          0       0   \n",
       "2          0          0         0  ...      0        0          0       0   \n",
       "3          0          0         0  ...      1        0          0       0   \n",
       "4          0          0         0  ...      1        0          0       0   \n",
       "\n",
       "   musical  mysteryromance  sci_fi  thriller  war  western  \n",
       "0        0               0       0         0    0        0  \n",
       "1        0               0       0         0    1        0  \n",
       "2        0               0       0         0    1        0  \n",
       "3        0               0       0         0    0        0  \n",
       "4        0               0       0         0    1        0  \n",
       "\n",
       "[5 rows x 23 columns]"
      ]
     },
     "execution_count": 3,
     "metadata": {},
     "output_type": "execute_result"
    }
   ],
   "source": [
    "movie_df = pd.read_csv(\n",
    "    \"data/ml-100k/u.item\",\n",
    "    sep=\"|\",\n",
    "    header=None,\n",
    "    encoding=\"latin1\",\n",
    "    index_col=False,\n",
    "    names=[\n",
    "        \"movie_id\",\n",
    "        \"movie_title\",\n",
    "        \"release_date\",\n",
    "        \"video_release_date\",\n",
    "        \"imdb_url\",\n",
    "        \"unknown\",\n",
    "        \"action\",\n",
    "        \"adventure\",\n",
    "        \"animation\",\n",
    "        \"children\",\n",
    "        \"comedy\",\n",
    "        \"crime\",\n",
    "        \"documentary\",\n",
    "        \"drama\",\n",
    "        \"fantasy\",\n",
    "        \"film_noir\",\n",
    "        \"horror\",\n",
    "        \"musical\",\n",
    "        \"mystery\" \"romance\",\n",
    "        \"sci_fi\",\n",
    "        \"thriller\",\n",
    "        \"war\",\n",
    "        \"western\",\n",
    "    ],\n",
    ")\n",
    "movie_df.movie_id -= 1  # make this column zero-indexed\n",
    "movie_df.head()"
   ]
  },
  {
   "cell_type": "code",
   "execution_count": null,
   "metadata": {},
   "outputs": [
    {
     "name": "stdout",
     "output_type": "stream",
     "text": [
      "Number of movies 1682\n"
     ]
    },
    {
     "data": {
      "text/html": [
       "<div>\n",
       "<style scoped>\n",
       "    .dataframe tbody tr th:only-of-type {\n",
       "        vertical-align: middle;\n",
       "    }\n",
       "\n",
       "    .dataframe tbody tr th {\n",
       "        vertical-align: top;\n",
       "    }\n",
       "\n",
       "    .dataframe thead th {\n",
       "        text-align: right;\n",
       "    }\n",
       "</style>\n",
       "<table border=\"1\" class=\"dataframe\">\n",
       "  <thead>\n",
       "    <tr style=\"text-align: right;\">\n",
       "      <th></th>\n",
       "      <th>user_id</th>\n",
       "      <th>movie_id</th>\n",
       "      <th>rating</th>\n",
       "      <th>movie_title</th>\n",
       "    </tr>\n",
       "  </thead>\n",
       "  <tbody>\n",
       "    <tr>\n",
       "      <th>0</th>\n",
       "      <td>195</td>\n",
       "      <td>241</td>\n",
       "      <td>3</td>\n",
       "      <td>Kolya (1996)</td>\n",
       "    </tr>\n",
       "    <tr>\n",
       "      <th>1</th>\n",
       "      <td>185</td>\n",
       "      <td>301</td>\n",
       "      <td>3</td>\n",
       "      <td>L.A. Confidential (1997)</td>\n",
       "    </tr>\n",
       "    <tr>\n",
       "      <th>2</th>\n",
       "      <td>243</td>\n",
       "      <td>50</td>\n",
       "      <td>2</td>\n",
       "      <td>Legends of the Fall (1994)</td>\n",
       "    </tr>\n",
       "    <tr>\n",
       "      <th>3</th>\n",
       "      <td>165</td>\n",
       "      <td>345</td>\n",
       "      <td>1</td>\n",
       "      <td>Jackie Brown (1997)</td>\n",
       "    </tr>\n",
       "    <tr>\n",
       "      <th>4</th>\n",
       "      <td>297</td>\n",
       "      <td>473</td>\n",
       "      <td>4</td>\n",
       "      <td>Dr. Strangelove or: How I Learned to Stop Worr...</td>\n",
       "    </tr>\n",
       "  </tbody>\n",
       "</table>\n",
       "</div>"
      ],
      "text/plain": [
       "   user_id  movie_id  rating  \\\n",
       "0      195       241       3   \n",
       "1      185       301       3   \n",
       "2      243        50       2   \n",
       "3      165       345       1   \n",
       "4      297       473       4   \n",
       "\n",
       "                                         movie_title  \n",
       "0                                       Kolya (1996)  \n",
       "1                           L.A. Confidential (1997)  \n",
       "2                         Legends of the Fall (1994)  \n",
       "3                                Jackie Brown (1997)  \n",
       "4  Dr. Strangelove or: How I Learned to Stop Worr...  "
      ]
     },
     "execution_count": 38,
     "metadata": {},
     "output_type": "execute_result"
    }
   ],
   "source": [
    "rating_df = pd.read_csv(\n",
    "    \"data/ml-100k/u.data\",\n",
    "    sep=\"\\t\",\n",
    "    header=None,\n",
    "    names=[\"user_id\", \"movie_id\", \"rating\", \"timestamp\"],\n",
    ")\n",
    "rating_df.user_id -= 1  # make this column zero-indexed\n",
    "rating_df.movie_id -= 1  # make this column zero-indexed\n",
    "rating_df.head()\n",
    "reward_threshold = 4\n",
    "movie_counts = (\n",
    "    rating_df.groupby(\"movie_id\")[\"rating\"].count().sort_values(ascending=False)\n",
    ")\n",
    "print(\"Number of movies\", rating_df[\"movie_id\"].nunique())\n",
    "n_movies = 800 #rating_df[\"movie_id\"].nunique()\n",
    "top_n_movies = rating_df.query(\n",
    "    \"movie_id in {}\".format((movie_counts[:n_movies].index.values.tolist()))\n",
    ")\n",
    "top_n_movies = top_n_movies.merge(\n",
    "    movie_df[[\"movie_id\", \"movie_title\"]], on=\"movie_id\", how=\"left\"\n",
    ").drop(columns=[\"timestamp\"])\n",
    "top_n_movies.movie_title = top_n_movies.movie_title.str.replace(\n",
    "    \"\\s+\\(.+\\)\", \"\"\n",
    ").str.strip()\n",
    "top_n_movies.head()"
   ]
  },
  {
   "cell_type": "code",
   "execution_count": null,
   "metadata": {},
   "outputs": [
    {
     "data": {
      "text/plain": [
       "(96056, 5)"
      ]
     },
     "execution_count": 39,
     "metadata": {},
     "output_type": "execute_result"
    }
   ],
   "source": [
    "reward_threshold = 4\n",
    "rating_df = top_n_movies\n",
    "rating_df[\"reward\"] = rating_df.eval(\"rating > @reward_threshold\").astype(int)\n",
    "rating_df.head()\n",
    "rating_df.shape"
   ]
  },
  {
   "cell_type": "markdown",
   "metadata": {},
   "source": [
    "## Bandits replayers"
   ]
  },
  {
   "cell_type": "code",
   "execution_count": null,
   "metadata": {},
   "outputs": [],
   "source": [
    "from tqdm.auto import tqdm\n",
    "\n",
    "\n",
    "class ReplaySimulator:\n",
    "    def __init__(\n",
    "        self,\n",
    "        n_visits,\n",
    "        reward_history,\n",
    "        item_col_name,\n",
    "        visitor_col_name,\n",
    "        reward_col_name,\n",
    "        n_iterations=1,\n",
    "        random_seed=1,\n",
    "    ):\n",
    "        np.random.seed(random_seed)\n",
    "        self.reward_history = reward_history\n",
    "        self.item_col_name = item_col_name\n",
    "        self.visitor_col_name = visitor_col_name\n",
    "        self.reward_col_name = reward_col_name\n",
    "        self.n_visits = n_visits\n",
    "        self.n_iterations = n_iterations\n",
    "        self.items = self.reward_history[self.item_col_name].unique()\n",
    "        self.n_items = len(self.items)\n",
    "        self.visitors = self.reward_history[self.visitor_col_name].unique()\n",
    "        self.n_visitors = len(self.visitors)\n",
    "\n",
    "    def reset(self):\n",
    "        self.n_item_samples = np.zeros(self.n_items)\n",
    "        self.n_item_rewards = np.zeros(self.n_items)\n",
    "\n",
    "    def replay(self):\n",
    "        results = []\n",
    "        for iteration in tqdm(range(self.n_iterations), total=self.n_iterations):\n",
    "            self.reset()\n",
    "            total_rewards = 0\n",
    "            fraction_relevant = np.zeros(self.n_visits)\n",
    "\n",
    "            for visit in tqdm(range(self.n_visits), desc=\"Visits\", total=self.n_visits, leave=False):\n",
    "                found_match = False\n",
    "                while not found_match:\n",
    "                    visitor_idx = np.random.randint(self.n_visitors)\n",
    "                    visitor_id = self.visitors[visitor_idx]\n",
    "                    item_idx = self.select_item()\n",
    "                    item_id = self.items[item_idx]\n",
    "                    reward = self.reward_history.query(\n",
    "                        f\"{self.item_col_name} == @item_id and {self.visitor_col_name} == @visitor_id\"\n",
    "                    )[self.reward_col_name]\n",
    "                    found_match = reward.shape[0] > 0\n",
    "\n",
    "                reward_value = reward.iloc[0]\n",
    "                self.record_result(visit, item_idx, reward_value)\n",
    "                total_rewards += reward_value\n",
    "                fraction_relevant[visit] = total_rewards / (visit + 1)\n",
    "\n",
    "                results.append(\n",
    "                    {\n",
    "                        \"iteration\": iteration,\n",
    "                        \"visit\": visit,\n",
    "                        \"item_id\": item_id,\n",
    "                        \"visitor_id\": visitor_id,\n",
    "                        \"reward\": reward_value,\n",
    "                        \"total_reward\": total_rewards,\n",
    "                        \"fraction_relevant\": fraction_relevant[visit],\n",
    "                    }\n",
    "                )\n",
    "\n",
    "        return results\n",
    "\n",
    "    def select_item(self):\n",
    "        return np.random.randint(self.n_items)\n",
    "\n",
    "    def record_result(self, visit, item_idx, reward):\n",
    "        self.n_item_samples[item_idx] += 1\n",
    "        alpha = 1.0 / self.n_item_samples[item_idx]\n",
    "        self.n_item_rewards[item_idx] += alpha * (\n",
    "            reward - self.n_item_rewards[item_idx]\n",
    "        )"
   ]
  },
  {
   "cell_type": "markdown",
   "metadata": {},
   "source": [
    "### Policies"
   ]
  },
  {
   "cell_type": "code",
   "execution_count": 55,
   "metadata": {},
   "outputs": [],
   "source": [
    "class RandomReplayer(ReplaySimulator):\n",
    "    def __init__(\n",
    "        self,\n",
    "        n_visits,\n",
    "        reward_history,\n",
    "        item_col_name,\n",
    "        visitor_col_name,\n",
    "        reward_col_name,\n",
    "        n_iterations=1,\n",
    "    ):\n",
    "        super(RandomReplayer, self).__init__(\n",
    "            n_visits,\n",
    "            reward_history,\n",
    "            item_col_name,\n",
    "            visitor_col_name,\n",
    "            reward_col_name,\n",
    "            n_iterations,\n",
    "        )\n",
    "\n",
    "    def select_item(self):\n",
    "        return np.random.choice(len(self.n_item_rewards))"
   ]
  },
  {
   "cell_type": "code",
   "execution_count": 60,
   "metadata": {},
   "outputs": [],
   "source": [
    "class EpsilonGreedyReplayer(ReplaySimulator):\n",
    "    def __init__(\n",
    "        self,\n",
    "        epsilon,\n",
    "        n_visits,\n",
    "        reward_history,\n",
    "        item_col_name,\n",
    "        visitor_col_name,\n",
    "        reward_col_name,\n",
    "        n_iterations=1,\n",
    "    ):\n",
    "        super(EpsilonGreedyReplayer, self).__init__(\n",
    "            n_visits,\n",
    "            reward_history,\n",
    "            item_col_name,\n",
    "            visitor_col_name,\n",
    "            reward_col_name,\n",
    "            n_iterations,\n",
    "        )\n",
    "        self.epsilon = epsilon\n",
    "\n",
    "    def select_item(self):\n",
    "        if np.random.uniform() < self.epsilon:  # explore\n",
    "            item_id = super(EpsilonGreedyReplayer, self).select_item()\n",
    "        else:\n",
    "            item_id = np.argmax(self.n_item_rewards)\n",
    "        return item_id"
   ]
  },
  {
   "cell_type": "code",
   "execution_count": 59,
   "metadata": {},
   "outputs": [],
   "source": [
    "class ThompsonSamplingReplayer(ReplaySimulator):\n",
    "    def reset(self):\n",
    "        self.alphas = np.ones(self.n_items)\n",
    "        self.betas = np.ones(self.n_items)\n",
    "\n",
    "    def select_item(self):\n",
    "        samples = [np.random.beta(a, b) for a, b in zip(self.alphas, self.betas)]\n",
    "        return np.argmax(samples)\n",
    "\n",
    "    def record_result(self, visit, item_idx, reward):\n",
    "        if reward == 1:\n",
    "            self.alphas[item_idx] += 1\n",
    "        else:\n",
    "            self.betas[item_idx] += 1"
   ]
  },
  {
   "cell_type": "markdown",
   "metadata": {},
   "source": [
    "## Run"
   ]
  },
  {
   "cell_type": "code",
   "execution_count": 45,
   "metadata": {},
   "outputs": [
    {
     "data": {
      "application/vnd.jupyter.widget-view+json": {
       "model_id": "3eeb94c925624be489cc2eb4b54d9d35",
       "version_major": 2,
       "version_minor": 0
      },
      "text/plain": [
       "  0%|          | 0/10 [00:00<?, ?it/s]"
      ]
     },
     "metadata": {},
     "output_type": "display_data"
    },
    {
     "data": {
      "application/vnd.jupyter.widget-view+json": {
       "model_id": "f5c14ce24def4bf196f52292d1fd4953",
       "version_major": 2,
       "version_minor": 0
      },
      "text/plain": [
       "Visits:   0%|          | 0/10000 [00:00<?, ?it/s]"
      ]
     },
     "metadata": {},
     "output_type": "display_data"
    },
    {
     "data": {
      "application/vnd.jupyter.widget-view+json": {
       "model_id": "a80a68d7329d489f8607e879a8838b8b",
       "version_major": 2,
       "version_minor": 0
      },
      "text/plain": [
       "Visits:   0%|          | 0/10000 [00:00<?, ?it/s]"
      ]
     },
     "metadata": {},
     "output_type": "display_data"
    },
    {
     "data": {
      "application/vnd.jupyter.widget-view+json": {
       "model_id": "fc2aa32ee594421e96c8e4ee7fd05a34",
       "version_major": 2,
       "version_minor": 0
      },
      "text/plain": [
       "Visits:   0%|          | 0/10000 [00:00<?, ?it/s]"
      ]
     },
     "metadata": {},
     "output_type": "display_data"
    },
    {
     "data": {
      "application/vnd.jupyter.widget-view+json": {
       "model_id": "588b918e61f64e76a8dd3a5887ebc8e5",
       "version_major": 2,
       "version_minor": 0
      },
      "text/plain": [
       "Visits:   0%|          | 0/10000 [00:00<?, ?it/s]"
      ]
     },
     "metadata": {},
     "output_type": "display_data"
    },
    {
     "data": {
      "application/vnd.jupyter.widget-view+json": {
       "model_id": "f8f808df793d44dc98a10e2123c3b7a8",
       "version_major": 2,
       "version_minor": 0
      },
      "text/plain": [
       "Visits:   0%|          | 0/10000 [00:00<?, ?it/s]"
      ]
     },
     "metadata": {},
     "output_type": "display_data"
    },
    {
     "data": {
      "application/vnd.jupyter.widget-view+json": {
       "model_id": "87299c75bdc641fb8deb2fac365883ea",
       "version_major": 2,
       "version_minor": 0
      },
      "text/plain": [
       "Visits:   0%|          | 0/10000 [00:00<?, ?it/s]"
      ]
     },
     "metadata": {},
     "output_type": "display_data"
    },
    {
     "data": {
      "application/vnd.jupyter.widget-view+json": {
       "model_id": "59b67cf06c854d7787342f985b3c8964",
       "version_major": 2,
       "version_minor": 0
      },
      "text/plain": [
       "Visits:   0%|          | 0/10000 [00:00<?, ?it/s]"
      ]
     },
     "metadata": {},
     "output_type": "display_data"
    },
    {
     "data": {
      "application/vnd.jupyter.widget-view+json": {
       "model_id": "9b7e7a49aa074acfb36729fe41cebaac",
       "version_major": 2,
       "version_minor": 0
      },
      "text/plain": [
       "Visits:   0%|          | 0/10000 [00:00<?, ?it/s]"
      ]
     },
     "metadata": {},
     "output_type": "display_data"
    },
    {
     "data": {
      "application/vnd.jupyter.widget-view+json": {
       "model_id": "c7daef092a594bb9b5c05ad9436082fd",
       "version_major": 2,
       "version_minor": 0
      },
      "text/plain": [
       "Visits:   0%|          | 0/10000 [00:00<?, ?it/s]"
      ]
     },
     "metadata": {},
     "output_type": "display_data"
    },
    {
     "data": {
      "application/vnd.jupyter.widget-view+json": {
       "model_id": "cd973b1fb19e44d39703c24027ff96b3",
       "version_major": 2,
       "version_minor": 0
      },
      "text/plain": [
       "Visits:   0%|          | 0/10000 [00:00<?, ?it/s]"
      ]
     },
     "metadata": {},
     "output_type": "display_data"
    },
    {
     "data": {
      "application/vnd.jupyter.widget-view+json": {
       "model_id": "9852619159804564a02421b7310a906a",
       "version_major": 2,
       "version_minor": 0
      },
      "text/plain": [
       "  0%|          | 0/10 [00:00<?, ?it/s]"
      ]
     },
     "metadata": {},
     "output_type": "display_data"
    },
    {
     "data": {
      "application/vnd.jupyter.widget-view+json": {
       "model_id": "b304f2ba2ef8481ab7e324ffd3578337",
       "version_major": 2,
       "version_minor": 0
      },
      "text/plain": [
       "Visits:   0%|          | 0/10000 [00:00<?, ?it/s]"
      ]
     },
     "metadata": {},
     "output_type": "display_data"
    },
    {
     "data": {
      "application/vnd.jupyter.widget-view+json": {
       "model_id": "9542b177cd4d40ba8bc6cb9deb2a04bd",
       "version_major": 2,
       "version_minor": 0
      },
      "text/plain": [
       "Visits:   0%|          | 0/10000 [00:00<?, ?it/s]"
      ]
     },
     "metadata": {},
     "output_type": "display_data"
    },
    {
     "data": {
      "application/vnd.jupyter.widget-view+json": {
       "model_id": "db0a9a9c6e8d420bb2237aaa60437967",
       "version_major": 2,
       "version_minor": 0
      },
      "text/plain": [
       "Visits:   0%|          | 0/10000 [00:00<?, ?it/s]"
      ]
     },
     "metadata": {},
     "output_type": "display_data"
    },
    {
     "data": {
      "application/vnd.jupyter.widget-view+json": {
       "model_id": "7c2e027f174449cfa475952805aaad80",
       "version_major": 2,
       "version_minor": 0
      },
      "text/plain": [
       "Visits:   0%|          | 0/10000 [00:00<?, ?it/s]"
      ]
     },
     "metadata": {},
     "output_type": "display_data"
    },
    {
     "data": {
      "application/vnd.jupyter.widget-view+json": {
       "model_id": "0df663e9329643828da3edd084225203",
       "version_major": 2,
       "version_minor": 0
      },
      "text/plain": [
       "Visits:   0%|          | 0/10000 [00:00<?, ?it/s]"
      ]
     },
     "metadata": {},
     "output_type": "display_data"
    },
    {
     "data": {
      "application/vnd.jupyter.widget-view+json": {
       "model_id": "c84f78a40d6c4631b0caf5c8632c3022",
       "version_major": 2,
       "version_minor": 0
      },
      "text/plain": [
       "Visits:   0%|          | 0/10000 [00:00<?, ?it/s]"
      ]
     },
     "metadata": {},
     "output_type": "display_data"
    },
    {
     "data": {
      "application/vnd.jupyter.widget-view+json": {
       "model_id": "47753d42fc9f4eed9d4a96ccdee906ef",
       "version_major": 2,
       "version_minor": 0
      },
      "text/plain": [
       "Visits:   0%|          | 0/10000 [00:00<?, ?it/s]"
      ]
     },
     "metadata": {},
     "output_type": "display_data"
    },
    {
     "data": {
      "application/vnd.jupyter.widget-view+json": {
       "model_id": "8eda502836cc47db9ac8da51c5ca08e3",
       "version_major": 2,
       "version_minor": 0
      },
      "text/plain": [
       "Visits:   0%|          | 0/10000 [00:00<?, ?it/s]"
      ]
     },
     "metadata": {},
     "output_type": "display_data"
    },
    {
     "data": {
      "application/vnd.jupyter.widget-view+json": {
       "model_id": "1c2a5184ae0b43d3841ea0231f8c4a16",
       "version_major": 2,
       "version_minor": 0
      },
      "text/plain": [
       "Visits:   0%|          | 0/10000 [00:00<?, ?it/s]"
      ]
     },
     "metadata": {},
     "output_type": "display_data"
    },
    {
     "data": {
      "application/vnd.jupyter.widget-view+json": {
       "model_id": "dee2b11cdf754c4a882e5d9034b8ad26",
       "version_major": 2,
       "version_minor": 0
      },
      "text/plain": [
       "Visits:   0%|          | 0/10000 [00:00<?, ?it/s]"
      ]
     },
     "metadata": {},
     "output_type": "display_data"
    },
    {
     "data": {
      "text/html": [
       "<div>\n",
       "<style scoped>\n",
       "    .dataframe tbody tr th:only-of-type {\n",
       "        vertical-align: middle;\n",
       "    }\n",
       "\n",
       "    .dataframe tbody tr th {\n",
       "        vertical-align: top;\n",
       "    }\n",
       "\n",
       "    .dataframe thead th {\n",
       "        text-align: right;\n",
       "    }\n",
       "</style>\n",
       "<table border=\"1\" class=\"dataframe\">\n",
       "  <thead>\n",
       "    <tr style=\"text-align: right;\">\n",
       "      <th></th>\n",
       "      <th>iteration</th>\n",
       "      <th>visit</th>\n",
       "      <th>item_id</th>\n",
       "      <th>visitor_id</th>\n",
       "      <th>reward</th>\n",
       "      <th>total_reward</th>\n",
       "      <th>fraction_relevant</th>\n",
       "    </tr>\n",
       "  </thead>\n",
       "  <tbody>\n",
       "    <tr>\n",
       "      <th>0</th>\n",
       "      <td>0</td>\n",
       "      <td>0</td>\n",
       "      <td>241</td>\n",
       "      <td>591</td>\n",
       "      <td>1</td>\n",
       "      <td>1</td>\n",
       "      <td>1.000000</td>\n",
       "    </tr>\n",
       "    <tr>\n",
       "      <th>1</th>\n",
       "      <td>0</td>\n",
       "      <td>1</td>\n",
       "      <td>241</td>\n",
       "      <td>62</td>\n",
       "      <td>0</td>\n",
       "      <td>1</td>\n",
       "      <td>0.500000</td>\n",
       "    </tr>\n",
       "    <tr>\n",
       "      <th>2</th>\n",
       "      <td>0</td>\n",
       "      <td>2</td>\n",
       "      <td>241</td>\n",
       "      <td>640</td>\n",
       "      <td>1</td>\n",
       "      <td>2</td>\n",
       "      <td>0.666667</td>\n",
       "    </tr>\n",
       "    <tr>\n",
       "      <th>3</th>\n",
       "      <td>0</td>\n",
       "      <td>3</td>\n",
       "      <td>241</td>\n",
       "      <td>239</td>\n",
       "      <td>1</td>\n",
       "      <td>3</td>\n",
       "      <td>0.750000</td>\n",
       "    </tr>\n",
       "    <tr>\n",
       "      <th>4</th>\n",
       "      <td>0</td>\n",
       "      <td>4</td>\n",
       "      <td>241</td>\n",
       "      <td>138</td>\n",
       "      <td>0</td>\n",
       "      <td>3</td>\n",
       "      <td>0.600000</td>\n",
       "    </tr>\n",
       "  </tbody>\n",
       "</table>\n",
       "</div>"
      ],
      "text/plain": [
       "   iteration  visit  item_id  visitor_id  reward  total_reward  \\\n",
       "0          0      0      241         591       1             1   \n",
       "1          0      1      241          62       0             1   \n",
       "2          0      2      241         640       1             2   \n",
       "3          0      3      241         239       1             3   \n",
       "4          0      4      241         138       0             3   \n",
       "\n",
       "   fraction_relevant  \n",
       "0           1.000000  \n",
       "1           0.500000  \n",
       "2           0.666667  \n",
       "3           0.750000  \n",
       "4           0.600000  "
      ]
     },
     "execution_count": 45,
     "metadata": {},
     "output_type": "execute_result"
    }
   ],
   "source": [
    "n_visits = 10000\n",
    "n_iterations = 5\n",
    "\n",
    "reward_history = rating_df\n",
    "item_col_name = \"movie_id\"\n",
    "visitor_col_name = \"user_id\"\n",
    "reward_col_name = \"reward\"\n",
    "\n",
    "epsilon = 0.05\n",
    "epsilon_005_results = EpsilonGreedyReplayer(\n",
    "    epsilon,\n",
    "    n_visits,\n",
    "    reward_history,\n",
    "    item_col_name,\n",
    "    visitor_col_name,\n",
    "    reward_col_name,\n",
    "    n_iterations=n_iterations,\n",
    ").replay()\n",
    "epsilon_005_results_df = pd.DataFrame(epsilon_005_results)\n",
    "epsilon_005_results_df.head()\n",
    "\n",
    "epsilon = 0.1\n",
    "epsilon_01_results = EpsilonGreedyReplayer(\n",
    "    epsilon,\n",
    "    n_visits,\n",
    "    reward_history,\n",
    "    item_col_name,\n",
    "    visitor_col_name,\n",
    "    reward_col_name,\n",
    "    n_iterations=n_iterations,\n",
    ").replay()\n",
    "\n",
    "epsilon_01_results_df = pd.DataFrame(epsilon_01_results)\n",
    "epsilon_01_results_df.head()\n",
    "random_results = RandomReplayer(\n",
    "    n_visits,\n",
    "    reward_history,\n",
    "    item_col_name,\n",
    "    visitor_col_name,\n",
    "    reward_col_name,\n",
    "    n_iterations=n_iterations,\n",
    ").replay()\n",
    "\n",
    "random_df = pd.DataFrame(random_results)\n",
    "random_df.head()"
   ]
  },
  {
   "cell_type": "code",
   "execution_count": 65,
   "metadata": {},
   "outputs": [
    {
     "data": {
      "application/vnd.jupyter.widget-view+json": {
       "model_id": "f637ba0eb73047dc8a87d6b214883c1d",
       "version_major": 2,
       "version_minor": 0
      },
      "text/plain": [
       "  0%|          | 0/10 [00:00<?, ?it/s]"
      ]
     },
     "metadata": {},
     "output_type": "display_data"
    },
    {
     "data": {
      "application/vnd.jupyter.widget-view+json": {
       "model_id": "7a305f82f4624d34ba85a78d99cdb04b",
       "version_major": 2,
       "version_minor": 0
      },
      "text/plain": [
       "Visits:   0%|          | 0/10000 [00:00<?, ?it/s]"
      ]
     },
     "metadata": {},
     "output_type": "display_data"
    },
    {
     "data": {
      "application/vnd.jupyter.widget-view+json": {
       "model_id": "d90ff55db5974734ae63b3d13521c002",
       "version_major": 2,
       "version_minor": 0
      },
      "text/plain": [
       "Visits:   0%|          | 0/10000 [00:00<?, ?it/s]"
      ]
     },
     "metadata": {},
     "output_type": "display_data"
    },
    {
     "data": {
      "application/vnd.jupyter.widget-view+json": {
       "model_id": "a0611b4263a64245896b5903ac48e734",
       "version_major": 2,
       "version_minor": 0
      },
      "text/plain": [
       "Visits:   0%|          | 0/10000 [00:00<?, ?it/s]"
      ]
     },
     "metadata": {},
     "output_type": "display_data"
    },
    {
     "data": {
      "application/vnd.jupyter.widget-view+json": {
       "model_id": "f3cf9177741d42fdb161f52a1791e608",
       "version_major": 2,
       "version_minor": 0
      },
      "text/plain": [
       "Visits:   0%|          | 0/10000 [00:00<?, ?it/s]"
      ]
     },
     "metadata": {},
     "output_type": "display_data"
    },
    {
     "data": {
      "application/vnd.jupyter.widget-view+json": {
       "model_id": "1b035c15975b47dd88dc17127894e816",
       "version_major": 2,
       "version_minor": 0
      },
      "text/plain": [
       "Visits:   0%|          | 0/10000 [00:00<?, ?it/s]"
      ]
     },
     "metadata": {},
     "output_type": "display_data"
    },
    {
     "data": {
      "application/vnd.jupyter.widget-view+json": {
       "model_id": "44b565dfa49e4ba4baef70f5574a5d2a",
       "version_major": 2,
       "version_minor": 0
      },
      "text/plain": [
       "Visits:   0%|          | 0/10000 [00:00<?, ?it/s]"
      ]
     },
     "metadata": {},
     "output_type": "display_data"
    },
    {
     "data": {
      "application/vnd.jupyter.widget-view+json": {
       "model_id": "73cfd27ea5d74397aacafbe2d6ef751e",
       "version_major": 2,
       "version_minor": 0
      },
      "text/plain": [
       "Visits:   0%|          | 0/10000 [00:00<?, ?it/s]"
      ]
     },
     "metadata": {},
     "output_type": "display_data"
    },
    {
     "data": {
      "application/vnd.jupyter.widget-view+json": {
       "model_id": "43a50f24089848a38edea43d5d39303d",
       "version_major": 2,
       "version_minor": 0
      },
      "text/plain": [
       "Visits:   0%|          | 0/10000 [00:00<?, ?it/s]"
      ]
     },
     "metadata": {},
     "output_type": "display_data"
    },
    {
     "data": {
      "application/vnd.jupyter.widget-view+json": {
       "model_id": "3a580fbe7e36485f8fc636d98c3bdbf9",
       "version_major": 2,
       "version_minor": 0
      },
      "text/plain": [
       "Visits:   0%|          | 0/10000 [00:00<?, ?it/s]"
      ]
     },
     "metadata": {},
     "output_type": "display_data"
    },
    {
     "data": {
      "application/vnd.jupyter.widget-view+json": {
       "model_id": "84ff5403295a49d0a8ce7a7402e73531",
       "version_major": 2,
       "version_minor": 0
      },
      "text/plain": [
       "Visits:   0%|          | 0/10000 [00:00<?, ?it/s]"
      ]
     },
     "metadata": {},
     "output_type": "display_data"
    },
    {
     "data": {
      "text/html": [
       "<div>\n",
       "<style scoped>\n",
       "    .dataframe tbody tr th:only-of-type {\n",
       "        vertical-align: middle;\n",
       "    }\n",
       "\n",
       "    .dataframe tbody tr th {\n",
       "        vertical-align: top;\n",
       "    }\n",
       "\n",
       "    .dataframe thead th {\n",
       "        text-align: right;\n",
       "    }\n",
       "</style>\n",
       "<table border=\"1\" class=\"dataframe\">\n",
       "  <thead>\n",
       "    <tr style=\"text-align: right;\">\n",
       "      <th></th>\n",
       "      <th>iteration</th>\n",
       "      <th>visit</th>\n",
       "      <th>item_id</th>\n",
       "      <th>visitor_id</th>\n",
       "      <th>reward</th>\n",
       "      <th>total_reward</th>\n",
       "      <th>fraction_relevant</th>\n",
       "    </tr>\n",
       "  </thead>\n",
       "  <tbody>\n",
       "    <tr>\n",
       "      <th>0</th>\n",
       "      <td>0</td>\n",
       "      <td>0</td>\n",
       "      <td>99</td>\n",
       "      <td>282</td>\n",
       "      <td>0</td>\n",
       "      <td>0</td>\n",
       "      <td>0.0</td>\n",
       "    </tr>\n",
       "    <tr>\n",
       "      <th>1</th>\n",
       "      <td>0</td>\n",
       "      <td>1</td>\n",
       "      <td>789</td>\n",
       "      <td>494</td>\n",
       "      <td>0</td>\n",
       "      <td>0</td>\n",
       "      <td>0.0</td>\n",
       "    </tr>\n",
       "    <tr>\n",
       "      <th>2</th>\n",
       "      <td>0</td>\n",
       "      <td>2</td>\n",
       "      <td>730</td>\n",
       "      <td>755</td>\n",
       "      <td>0</td>\n",
       "      <td>0</td>\n",
       "      <td>0.0</td>\n",
       "    </tr>\n",
       "    <tr>\n",
       "      <th>3</th>\n",
       "      <td>0</td>\n",
       "      <td>3</td>\n",
       "      <td>362</td>\n",
       "      <td>144</td>\n",
       "      <td>0</td>\n",
       "      <td>0</td>\n",
       "      <td>0.0</td>\n",
       "    </tr>\n",
       "    <tr>\n",
       "      <th>4</th>\n",
       "      <td>0</td>\n",
       "      <td>4</td>\n",
       "      <td>918</td>\n",
       "      <td>175</td>\n",
       "      <td>0</td>\n",
       "      <td>0</td>\n",
       "      <td>0.0</td>\n",
       "    </tr>\n",
       "  </tbody>\n",
       "</table>\n",
       "</div>"
      ],
      "text/plain": [
       "   iteration  visit  item_id  visitor_id  reward  total_reward  \\\n",
       "0          0      0       99         282       0             0   \n",
       "1          0      1      789         494       0             0   \n",
       "2          0      2      730         755       0             0   \n",
       "3          0      3      362         144       0             0   \n",
       "4          0      4      918         175       0             0   \n",
       "\n",
       "   fraction_relevant  \n",
       "0                0.0  \n",
       "1                0.0  \n",
       "2                0.0  \n",
       "3                0.0  \n",
       "4                0.0  "
      ]
     },
     "execution_count": 65,
     "metadata": {},
     "output_type": "execute_result"
    }
   ],
   "source": [
    "ts_replayer = ThompsonSamplingReplayer(\n",
    "    n_visits,\n",
    "    reward_history,\n",
    "    item_col_name,\n",
    "    visitor_col_name,\n",
    "    reward_col_name,\n",
    "    n_iterations=n_iterations,\n",
    ").replay()\n",
    "\n",
    "ts_df = pd.DataFrame(ts_replayer)\n",
    "ts_df.head()"
   ]
  },
  {
   "cell_type": "code",
   "execution_count": 62,
   "metadata": {},
   "outputs": [],
   "source": [
    "epsilon_005_avg_results_df = epsilon_005_results_df.groupby(\n",
    "    \"visit\", as_index=False\n",
    ").mean()\n",
    "epsilon_005_avg_results_df\n",
    "epsilon_01_avg_results_df = epsilon_01_results_df.groupby(\n",
    "    \"visit\", as_index=False\n",
    ").mean()\n",
    "epsilon_01_avg_results_df\n",
    "random_avg_results = random_df.groupby(\"visit\", as_index=False).mean()\n",
    "ts_avg_results = ts_df.groupby(\"visit\", as_index=False).mean()"
   ]
  },
  {
   "cell_type": "code",
   "execution_count": 64,
   "metadata": {},
   "outputs": [
    {
     "data": {
      "text/plain": [
       "<AxesSubplot:xlabel='visit', ylabel='fraction_relevant'>"
      ]
     },
     "execution_count": 64,
     "metadata": {},
     "output_type": "execute_result"
    },
    {
     "data": {
      "image/png": "[encoded data removed]",
      "text/plain": [
       "<Figure size 432x288 with 1 Axes>"
      ]
     },
     "metadata": {
      "needs_background": "light"
     },
     "output_type": "display_data"
    }
   ],
   "source": [
    "fig, ax = plt.subplots()\n",
    "sns.lineplot(data=epsilon_01_avg_results_df, x=\"visit\", y=\"fraction_relevant\", label=\"Epsilon greedy 0.1\", ax=ax)\n",
    "sns.lineplot(\n",
    "    data=epsilon_005_avg_results_df,\n",
    "    x=\"visit\",\n",
    "    y=\"fraction_relevant\",\n",
    "    label=\"Epsilon greedy 0.05\",\n",
    "    ax=ax\n",
    ")\n",
    "sns.lineplot(\n",
    "    data=random_avg_results,\n",
    "    x=\"visit\",\n",
    "    y=\"fraction_relevant\",\n",
    "    label=\"Random\",\n",
    "    ax=ax,\n",
    ")\n",
    "sns.lineplot(\n",
    "    data=ts_avg_results,\n",
    "    x=\"visit\",\n",
    "    y=\"fraction_relevant\",\n",
    "    label=\"Thompson Sampling\",\n",
    "    ax=ax,\n",
    ")\n",
    "ax.set_ylabel(\"Proportion of relevant recommendation\")\n",
    "# ax.set_yscale(\"log\")"
   ]
  },
  {
   "cell_type": "markdown",
   "metadata": {},
   "source": [
    "## Adding the TwoThird rule"
   ]
  },
  {
   "cell_type": "code",
   "execution_count": null,
   "metadata": {},
   "outputs": [],
   "source": [
    "class ReplaySimulatorCrowd:\n",
    "    def __init__(\n",
    "        self,\n",
    "        n_visits,\n",
    "        reward_history,\n",
    "        item_col_name,\n",
    "        visitor_col_name,\n",
    "        reward_col_name,\n",
    "        n_iterations=1,\n",
    "        threshold=2/3,\n",
    "        random_seed=1,\n",
    "    ):\n",
    "        np.random.seed(random_seed)\n",
    "        self.reward_history = reward_history\n",
    "        self.item_col_name = item_col_name\n",
    "        self.visitor_col_name = visitor_col_name\n",
    "        self.reward_col_name = reward_col_name\n",
    "        self.n_visits = n_visits\n",
    "        self.threshold = threshold\n",
    "        self.n_iterations = n_iterations\n",
    "        self.items = self.reward_history[self.item_col_name].unique()\n",
    "        self.n_items = len(self.items)\n",
    "        self.visitors = self.reward_history[self.visitor_col_name].unique()\n",
    "        self.n_visitors = len(self.visitors)\n",
    "\n",
    "    def reset(self):\n",
    "        self.n_item_samples = np.zeros(self.n_items)\n",
    "        self.n_item_rewards = np.zeros((self.n_items, 2))\n",
    "\n",
    "    def replay(self):\n",
    "        results = []\n",
    "        for iteration in tqdm(range(self.n_iterations), total=self.n_iterations):\n",
    "            self.reset()\n",
    "            total_rewards = 0\n",
    "            fraction_relevant = np.zeros(self.n_visits)\n",
    "            items_threshold = np.zeros(self.n_items)\n",
    "            item_allowed = np.ones(self.n_items)\n",
    "            for visit in tqdm(range(self.n_visits), desc=\"Visits\", total=self.n_visits, leave=False):\n",
    "                found_match = False\n",
    "                while not found_match:\n",
    "                    visitor_idx = np.random.randint(self.n_visitors)\n",
    "                    visitor_id = self.visitors[visitor_idx]\n",
    "                    item_idx = self.select_item(item_allowed)\n",
    "                    item_id = self.items[item_idx]\n",
    "                    reward = self.reward_history.query(\n",
    "                        f\"{self.item_col_name} == @item_id and {self.visitor_col_name} == @visitor_id\"\n",
    "                    )[self.reward_col_name]\n",
    "                    found_match = reward.shape[0] > 0\n",
    "\n",
    "                reward_value = reward.iloc[0]\n",
    "                items_threshold[item_idx, reward] += 1\n",
    "                max_item = items_threshold[item_idx, :].max()\n",
    "                if max_item >= 2 and max_item/items_threshold[item_idx, :].sum() >= self.threshold:\n",
    "                    item_allowed[item_idx] = False\n",
    "                self.record_result(visit, item_idx, reward_value)\n",
    "                total_rewards += reward_value\n",
    "                fraction_relevant[visit] = total_rewards / (visit + 1)\n",
    "\n",
    "                results.append(\n",
    "                    {\n",
    "                        \"iteration\": iteration,\n",
    "                        \"visit\": visit,\n",
    "                        \"item_id\": item_id,\n",
    "                        \"visitor_id\": visitor_id,\n",
    "                        \"reward\": reward_value,\n",
    "                        \"total_reward\": total_rewards,\n",
    "                        \"fraction_relevant\": fraction_relevant[visit],\n",
    "                    }\n",
    "                )\n",
    "\n",
    "        return results\n",
    "\n",
    "    def select_item(self):\n",
    "        return np.random.randint(self.n_items)\n",
    "\n",
    "    def record_result(self, visit, item_idx, reward):\n",
    "        self.n_item_samples[item_idx] += 1\n",
    "        alpha = 1.0 / self.n_item_samples[item_idx]\n",
    "        self.n_item_rewards[item_idx] += alpha * (\n",
    "            reward - self.n_item_rewards[item_idx]\n",
    "        )"
   ]
  }
 ],
 "metadata": {
  "kernelspec": {
   "display_name": "Python 3",
   "language": "python",
   "name": "python3"
  },
  "language_info": {
   "codemirror_mode": {
    "name": "ipython",
    "version": 3
   },
   "file_extension": ".py",
   "mimetype": "text/x-python",
   "name": "python",
   "nbconvert_exporter": "python",
   "pygments_lexer": "ipython3",
   "version": "3.9.12"
  }
 },
 "nbformat": 4,
 "nbformat_minor": 2
}
