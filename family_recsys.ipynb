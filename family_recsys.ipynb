{
 "cells": [
  {
   "cell_type": "code",
   "execution_count": 1,
   "metadata": {},
   "outputs": [],
   "source": [
    "import surprise\n",
    "import pandas as pd\n",
    "import numpy as np\n",
    "import matplotlib.pyplot as plt\n",
    "import seaborn as sns\n",
    "from sklearn.model_selection import train_test_split\n",
    "from sklearn import preprocessing\n",
    "from tqdm.auto import tqdm\n",
    "from surprise import BaselineOnly, Dataset, Reader, SVD, accuracy\n",
    "from collections import defaultdict\n",
    "\n",
    "sns.set_style(\"whitegrid\")"
   ]
  },
  {
   "cell_type": "code",
   "execution_count": 2,
   "metadata": {},
   "outputs": [
    {
     "data": {
      "text/html": [
       "<div>\n",
       "<style scoped>\n",
       "    .dataframe tbody tr th:only-of-type {\n",
       "        vertical-align: middle;\n",
       "    }\n",
       "\n",
       "    .dataframe tbody tr th {\n",
       "        vertical-align: top;\n",
       "    }\n",
       "\n",
       "    .dataframe thead th {\n",
       "        text-align: right;\n",
       "    }\n",
       "</style>\n",
       "<table border=\"1\" class=\"dataframe\">\n",
       "  <thead>\n",
       "    <tr style=\"text-align: right;\">\n",
       "      <th></th>\n",
       "      <th>obs_id</th>\n",
       "      <th>item_id</th>\n",
       "      <th>user_id</th>\n",
       "      <th>user_weight</th>\n",
       "      <th>interaction_type</th>\n",
       "      <th>value</th>\n",
       "      <th>obs_author</th>\n",
       "      <th>number_of_items</th>\n",
       "      <th>AI_determination_1</th>\n",
       "      <th>AI_score_1</th>\n",
       "      <th>...</th>\n",
       "      <th>observation_time</th>\n",
       "      <th>observation_year</th>\n",
       "      <th>observation_month</th>\n",
       "      <th>interaction_time_gap</th>\n",
       "      <th>user_determination_family</th>\n",
       "      <th>user_determination_genus</th>\n",
       "      <th>AI_determination_1_family</th>\n",
       "      <th>AI_determination_1_genus</th>\n",
       "      <th>AI_determination_2_family</th>\n",
       "      <th>AI_determination_2_genus</th>\n",
       "    </tr>\n",
       "    <tr>\n",
       "      <th>index</th>\n",
       "      <th></th>\n",
       "      <th></th>\n",
       "      <th></th>\n",
       "      <th></th>\n",
       "      <th></th>\n",
       "      <th></th>\n",
       "      <th></th>\n",
       "      <th></th>\n",
       "      <th></th>\n",
       "      <th></th>\n",
       "      <th></th>\n",
       "      <th></th>\n",
       "      <th></th>\n",
       "      <th></th>\n",
       "      <th></th>\n",
       "      <th></th>\n",
       "      <th></th>\n",
       "      <th></th>\n",
       "      <th></th>\n",
       "      <th></th>\n",
       "      <th></th>\n",
       "    </tr>\n",
       "  </thead>\n",
       "  <tbody>\n",
       "    <tr>\n",
       "      <th>1096</th>\n",
       "      <td>1001018503</td>\n",
       "      <td>None</td>\n",
       "      <td>100256658</td>\n",
       "      <td>9.81</td>\n",
       "      <td>determination</td>\n",
       "      <td>None</td>\n",
       "      <td>100484701</td>\n",
       "      <td>2</td>\n",
       "      <td>Cuphea micropetala Kunth</td>\n",
       "      <td>0.54508</td>\n",
       "      <td>...</td>\n",
       "      <td>1510175067000</td>\n",
       "      <td>2017</td>\n",
       "      <td>11</td>\n",
       "      <td>0</td>\n",
       "      <td>None</td>\n",
       "      <td>None</td>\n",
       "      <td>Lythraceae</td>\n",
       "      <td>Cuphea</td>\n",
       "      <td>Campanulaceae</td>\n",
       "      <td>Lobelia</td>\n",
       "    </tr>\n",
       "    <tr>\n",
       "      <th>1097</th>\n",
       "      <td>1001018503</td>\n",
       "      <td>50cab54f2ea7ccf60c54263423bb2bf1307a4ba7</td>\n",
       "      <td>100256658</td>\n",
       "      <td>9.81</td>\n",
       "      <td>quality</td>\n",
       "      <td>False</td>\n",
       "      <td>100484701</td>\n",
       "      <td>2</td>\n",
       "      <td>Cuphea micropetala Kunth</td>\n",
       "      <td>0.54508</td>\n",
       "      <td>...</td>\n",
       "      <td>1510175067000</td>\n",
       "      <td>2017</td>\n",
       "      <td>11</td>\n",
       "      <td>0</td>\n",
       "      <td>None</td>\n",
       "      <td>None</td>\n",
       "      <td>Lythraceae</td>\n",
       "      <td>Cuphea</td>\n",
       "      <td>Campanulaceae</td>\n",
       "      <td>Lobelia</td>\n",
       "    </tr>\n",
       "    <tr>\n",
       "      <th>1098</th>\n",
       "      <td>1001018503</td>\n",
       "      <td>50cab54f2ea7ccf60c54263423bb2bf1307a4ba7</td>\n",
       "      <td>100385054</td>\n",
       "      <td>0.74</td>\n",
       "      <td>quality</td>\n",
       "      <td>False</td>\n",
       "      <td>100484701</td>\n",
       "      <td>2</td>\n",
       "      <td>Cuphea micropetala Kunth</td>\n",
       "      <td>0.54508</td>\n",
       "      <td>...</td>\n",
       "      <td>1510175067000</td>\n",
       "      <td>2017</td>\n",
       "      <td>11</td>\n",
       "      <td>0</td>\n",
       "      <td>None</td>\n",
       "      <td>None</td>\n",
       "      <td>Lythraceae</td>\n",
       "      <td>Cuphea</td>\n",
       "      <td>Campanulaceae</td>\n",
       "      <td>Lobelia</td>\n",
       "    </tr>\n",
       "    <tr>\n",
       "      <th>1099</th>\n",
       "      <td>1001018503</td>\n",
       "      <td>50cab54f2ea7ccf60c54263423bb2bf1307a4ba7</td>\n",
       "      <td>100465488</td>\n",
       "      <td>11.44</td>\n",
       "      <td>noplant</td>\n",
       "      <td>None</td>\n",
       "      <td>100484701</td>\n",
       "      <td>2</td>\n",
       "      <td>Cuphea micropetala Kunth</td>\n",
       "      <td>0.54508</td>\n",
       "      <td>...</td>\n",
       "      <td>1510175067000</td>\n",
       "      <td>2017</td>\n",
       "      <td>11</td>\n",
       "      <td>0</td>\n",
       "      <td>None</td>\n",
       "      <td>None</td>\n",
       "      <td>Lythraceae</td>\n",
       "      <td>Cuphea</td>\n",
       "      <td>Campanulaceae</td>\n",
       "      <td>Lobelia</td>\n",
       "    </tr>\n",
       "    <tr>\n",
       "      <th>1100</th>\n",
       "      <td>1001018503</td>\n",
       "      <td>None</td>\n",
       "      <td>100484701</td>\n",
       "      <td>4.00</td>\n",
       "      <td>determination</td>\n",
       "      <td>Lobelia laxiflora Kunth</td>\n",
       "      <td>100484701</td>\n",
       "      <td>2</td>\n",
       "      <td>Cuphea micropetala Kunth</td>\n",
       "      <td>0.54508</td>\n",
       "      <td>...</td>\n",
       "      <td>1510175067000</td>\n",
       "      <td>2017</td>\n",
       "      <td>11</td>\n",
       "      <td>632</td>\n",
       "      <td>Campanulaceae</td>\n",
       "      <td>Lobelia</td>\n",
       "      <td>Lythraceae</td>\n",
       "      <td>Cuphea</td>\n",
       "      <td>Campanulaceae</td>\n",
       "      <td>Lobelia</td>\n",
       "    </tr>\n",
       "  </tbody>\n",
       "</table>\n",
       "<p>5 rows × 25 columns</p>\n",
       "</div>"
      ],
      "text/plain": [
       "           obs_id                                   item_id    user_id  \\\n",
       "index                                                                    \n",
       "1096   1001018503                                      None  100256658   \n",
       "1097   1001018503  50cab54f2ea7ccf60c54263423bb2bf1307a4ba7  100256658   \n",
       "1098   1001018503  50cab54f2ea7ccf60c54263423bb2bf1307a4ba7  100385054   \n",
       "1099   1001018503  50cab54f2ea7ccf60c54263423bb2bf1307a4ba7  100465488   \n",
       "1100   1001018503                                      None  100484701   \n",
       "\n",
       "       user_weight interaction_type                    value obs_author  \\\n",
       "index                                                                     \n",
       "1096          9.81    determination                     None  100484701   \n",
       "1097          9.81          quality                    False  100484701   \n",
       "1098          0.74          quality                    False  100484701   \n",
       "1099         11.44          noplant                     None  100484701   \n",
       "1100          4.00    determination  Lobelia laxiflora Kunth  100484701   \n",
       "\n",
       "       number_of_items        AI_determination_1  AI_score_1  ...  \\\n",
       "index                                                         ...   \n",
       "1096                 2  Cuphea micropetala Kunth     0.54508  ...   \n",
       "1097                 2  Cuphea micropetala Kunth     0.54508  ...   \n",
       "1098                 2  Cuphea micropetala Kunth     0.54508  ...   \n",
       "1099                 2  Cuphea micropetala Kunth     0.54508  ...   \n",
       "1100                 2  Cuphea micropetala Kunth     0.54508  ...   \n",
       "\n",
       "      observation_time  observation_year  observation_month  \\\n",
       "index                                                         \n",
       "1096     1510175067000              2017                 11   \n",
       "1097     1510175067000              2017                 11   \n",
       "1098     1510175067000              2017                 11   \n",
       "1099     1510175067000              2017                 11   \n",
       "1100     1510175067000              2017                 11   \n",
       "\n",
       "       interaction_time_gap  user_determination_family  \\\n",
       "index                                                    \n",
       "1096                      0                       None   \n",
       "1097                      0                       None   \n",
       "1098                      0                       None   \n",
       "1099                      0                       None   \n",
       "1100                    632              Campanulaceae   \n",
       "\n",
       "       user_determination_genus  AI_determination_1_family  \\\n",
       "index                                                        \n",
       "1096                       None                 Lythraceae   \n",
       "1097                       None                 Lythraceae   \n",
       "1098                       None                 Lythraceae   \n",
       "1099                       None                 Lythraceae   \n",
       "1100                    Lobelia                 Lythraceae   \n",
       "\n",
       "       AI_determination_1_genus  AI_determination_2_family  \\\n",
       "index                                                        \n",
       "1096                     Cuphea              Campanulaceae   \n",
       "1097                     Cuphea              Campanulaceae   \n",
       "1098                     Cuphea              Campanulaceae   \n",
       "1099                     Cuphea              Campanulaceae   \n",
       "1100                     Cuphea              Campanulaceae   \n",
       "\n",
       "      AI_determination_2_genus  \n",
       "index                           \n",
       "1096                   Lobelia  \n",
       "1097                   Lobelia  \n",
       "1098                   Lobelia  \n",
       "1099                   Lobelia  \n",
       "1100                   Lobelia  \n",
       "\n",
       "[5 rows x 25 columns]"
      ]
     },
     "execution_count": 2,
     "metadata": {},
     "output_type": "execute_result"
    }
   ],
   "source": [
    "df_plantnet = pd.read_parquet(\"./data/recsys_interactions_minimal.parquet\")\n",
    "df_plantnet.head()"
   ]
  },
  {
   "cell_type": "markdown",
   "metadata": {},
   "source": [
    "The goal here is to use the family of the AI to generate recommendations"
   ]
  },
  {
   "cell_type": "code",
   "execution_count": 69,
   "metadata": {},
   "outputs": [],
   "source": [
    "def preprocess_plantnet_data(\n",
    "    logs_path,\n",
    "    min_number_of_reviews=50,\n",
    "    min_number_of_participations=10,\n",
    "    use_genera=True, # else uses families\n",
    "):\n",
    "    print(\"Preparing ratings log\")\n",
    "    logs = pd.read_parquet(logs_path)\n",
    "    keyword = \"AI_determination_1_genus\" if use_genera else \"AI_determination_1_family\"\n",
    "    obs_counts = logs[keyword].value_counts()\n",
    "    obs_to_keep = (\n",
    "        pd.DataFrame(obs_counts)\n",
    "        .loc[pd.DataFrame(obs_counts)[\"count\"] >= min_number_of_reviews]\n",
    "        .index\n",
    "    )\n",
    "    logs = logs.loc[logs[keyword].isin(obs_to_keep)]\n",
    "    logs[\"rating\"] = logs[\"interaction_type\"].map(\n",
    "        {\"determination\": 1, \"quality\": 0, \"noplant\": 0, \"organ\": 0, \"malformed\": 0}\n",
    "    )\n",
    "    logs = (\n",
    "        logs[[\"user_id\", keyword, \"rating\"]]\n",
    "        .groupby([\"user_id\", keyword])\n",
    "        .sum()\n",
    "        .reset_index()\n",
    "    )\n",
    "    interactions_count = logs[\"user_id\"].value_counts()\n",
    "    user_to_keep = (\n",
    "        pd.DataFrame(interactions_count)\n",
    "        .loc[pd.DataFrame(interactions_count)[\"count\"] >= min_number_of_participations]\n",
    "        .index\n",
    "    )\n",
    "    logs = logs.loc[logs[\"user_id\"].isin(user_to_keep)]\n",
    "\n",
    "    logs = logs.sample(frac=1)\n",
    "    logs[\"t\"] = np.arange(len(logs))\n",
    "    logs.index = logs[\"t\"]\n",
    "    print(\n",
    "        f\"\"\"\n",
    "    Keeping: {logs[keyword].nunique()} {keyword} and {logs[\"user_id\"].nunique()} user with a total of {logs.shape} interations\n",
    "\"\"\"\n",
    "    )\n",
    "    le_user = preprocessing.LabelEncoder()\n",
    "    le_item = preprocessing.LabelEncoder()\n",
    "    logs[\"user_id\"] = le_user.fit_transform(logs[\"user_id\"])\n",
    "    logs[keyword] = le_item.fit_transform(logs[keyword])\n",
    "    return logs, le_user, le_item"
   ]
  },
  {
   "cell_type": "code",
   "execution_count": 71,
   "metadata": {},
   "outputs": [
    {
     "name": "stdout",
     "output_type": "stream",
     "text": [
      "Preparing ratings log\n",
      "\n",
      "    Keeping: 1811 AI_determination_1_genus and 4856 user with a total of (329874, 4) interations\n",
      "\n"
     ]
    },
    {
     "data": {
      "text/html": [
       "<div>\n",
       "<style scoped>\n",
       "    .dataframe tbody tr th:only-of-type {\n",
       "        vertical-align: middle;\n",
       "    }\n",
       "\n",
       "    .dataframe tbody tr th {\n",
       "        vertical-align: top;\n",
       "    }\n",
       "\n",
       "    .dataframe thead th {\n",
       "        text-align: right;\n",
       "    }\n",
       "</style>\n",
       "<table border=\"1\" class=\"dataframe\">\n",
       "  <thead>\n",
       "    <tr style=\"text-align: right;\">\n",
       "      <th></th>\n",
       "      <th>user_id</th>\n",
       "      <th>item_id</th>\n",
       "      <th>response</th>\n",
       "    </tr>\n",
       "    <tr>\n",
       "      <th>t</th>\n",
       "      <th></th>\n",
       "      <th></th>\n",
       "      <th></th>\n",
       "    </tr>\n",
       "  </thead>\n",
       "  <tbody>\n",
       "    <tr>\n",
       "      <th>0</th>\n",
       "      <td>2118</td>\n",
       "      <td>993</td>\n",
       "      <td>True</td>\n",
       "    </tr>\n",
       "    <tr>\n",
       "      <th>1</th>\n",
       "      <td>3284</td>\n",
       "      <td>242</td>\n",
       "      <td>True</td>\n",
       "    </tr>\n",
       "    <tr>\n",
       "      <th>2</th>\n",
       "      <td>2101</td>\n",
       "      <td>394</td>\n",
       "      <td>True</td>\n",
       "    </tr>\n",
       "    <tr>\n",
       "      <th>3</th>\n",
       "      <td>3003</td>\n",
       "      <td>1783</td>\n",
       "      <td>True</td>\n",
       "    </tr>\n",
       "    <tr>\n",
       "      <th>4</th>\n",
       "      <td>2325</td>\n",
       "      <td>1297</td>\n",
       "      <td>True</td>\n",
       "    </tr>\n",
       "  </tbody>\n",
       "</table>\n",
       "</div>"
      ],
      "text/plain": [
       "   user_id  item_id  response\n",
       "t                            \n",
       "0     2118      993      True\n",
       "1     3284      242      True\n",
       "2     2101      394      True\n",
       "3     3003     1783      True\n",
       "4     2325     1297      True"
      ]
     },
     "execution_count": 71,
     "metadata": {},
     "output_type": "execute_result"
    }
   ],
   "source": [
    "use_genera = True\n",
    "keyword = \"AI_determination_1_genus\" if use_genera else \"AI_determination_1_family\"\n",
    "\n",
    "logs, le_user, le_item = preprocess_plantnet_data(\n",
    "    \"./data/recsys_interactions_minimal.parquet\",\n",
    "    min_number_of_reviews=10,\n",
    "    min_number_of_participations=20,\n",
    "    use_genera=use_genera\n",
    ")\n",
    "logs.drop(\"t\", inplace=True, axis=1)\n",
    "logs.columns = [\"user_id\", \"item_id\", \"response\"]\n",
    "logs[\"response\"] = logs[\"response\"] > 0\n",
    "logs.head()"
   ]
  },
  {
   "cell_type": "markdown",
   "metadata": {},
   "source": [
    "We also need the records for each observation / user kept determination"
   ]
  },
  {
   "cell_type": "code",
   "execution_count": 72,
   "metadata": {},
   "outputs": [
    {
     "data": {
      "text/html": [
       "<div>\n",
       "<style scoped>\n",
       "    .dataframe tbody tr th:only-of-type {\n",
       "        vertical-align: middle;\n",
       "    }\n",
       "\n",
       "    .dataframe tbody tr th {\n",
       "        vertical-align: top;\n",
       "    }\n",
       "\n",
       "    .dataframe thead th {\n",
       "        text-align: right;\n",
       "    }\n",
       "</style>\n",
       "<table border=\"1\" class=\"dataframe\">\n",
       "  <thead>\n",
       "    <tr style=\"text-align: right;\">\n",
       "      <th></th>\n",
       "      <th>obs_id</th>\n",
       "      <th>item_id</th>\n",
       "      <th>user_id</th>\n",
       "      <th>user_weight</th>\n",
       "      <th>interaction_type</th>\n",
       "      <th>value</th>\n",
       "      <th>obs_author</th>\n",
       "      <th>number_of_items</th>\n",
       "      <th>AI_determination_1</th>\n",
       "      <th>AI_score_1</th>\n",
       "      <th>...</th>\n",
       "      <th>observation_time</th>\n",
       "      <th>observation_year</th>\n",
       "      <th>observation_month</th>\n",
       "      <th>interaction_time_gap</th>\n",
       "      <th>user_determination_family</th>\n",
       "      <th>user_determination_genus</th>\n",
       "      <th>AI_determination_1_family</th>\n",
       "      <th>AI_determination_1_genus</th>\n",
       "      <th>AI_determination_2_family</th>\n",
       "      <th>AI_determination_2_genus</th>\n",
       "    </tr>\n",
       "    <tr>\n",
       "      <th>index</th>\n",
       "      <th></th>\n",
       "      <th></th>\n",
       "      <th></th>\n",
       "      <th></th>\n",
       "      <th></th>\n",
       "      <th></th>\n",
       "      <th></th>\n",
       "      <th></th>\n",
       "      <th></th>\n",
       "      <th></th>\n",
       "      <th></th>\n",
       "      <th></th>\n",
       "      <th></th>\n",
       "      <th></th>\n",
       "      <th></th>\n",
       "      <th></th>\n",
       "      <th></th>\n",
       "      <th></th>\n",
       "      <th></th>\n",
       "      <th></th>\n",
       "      <th></th>\n",
       "    </tr>\n",
       "  </thead>\n",
       "  <tbody>\n",
       "    <tr>\n",
       "      <th>1267</th>\n",
       "      <td>1005188264</td>\n",
       "      <td>None</td>\n",
       "      <td>101445260</td>\n",
       "      <td>12.26</td>\n",
       "      <td>determination</td>\n",
       "      <td>None</td>\n",
       "      <td>101477745</td>\n",
       "      <td>1</td>\n",
       "      <td>Citrus limon (L.) Burm.f.</td>\n",
       "      <td>0.29117</td>\n",
       "      <td>...</td>\n",
       "      <td>1573218504935</td>\n",
       "      <td>2019</td>\n",
       "      <td>11</td>\n",
       "      <td>0</td>\n",
       "      <td>None</td>\n",
       "      <td>None</td>\n",
       "      <td>Rutaceae</td>\n",
       "      <td>Citrus</td>\n",
       "      <td>Celastraceae</td>\n",
       "      <td>Euonymus</td>\n",
       "    </tr>\n",
       "    <tr>\n",
       "      <th>8591</th>\n",
       "      <td>1002520557</td>\n",
       "      <td>None</td>\n",
       "      <td>101458154</td>\n",
       "      <td>15.87</td>\n",
       "      <td>determination</td>\n",
       "      <td>None</td>\n",
       "      <td>100656323</td>\n",
       "      <td>1</td>\n",
       "      <td>Camellia japonica L.</td>\n",
       "      <td>0.24942</td>\n",
       "      <td>...</td>\n",
       "      <td>1532466441000</td>\n",
       "      <td>2018</td>\n",
       "      <td>7</td>\n",
       "      <td>444</td>\n",
       "      <td>None</td>\n",
       "      <td>None</td>\n",
       "      <td>Theaceae</td>\n",
       "      <td>Camellia</td>\n",
       "      <td>Rosaceae</td>\n",
       "      <td>Rosa</td>\n",
       "    </tr>\n",
       "    <tr>\n",
       "      <th>8876</th>\n",
       "      <td>1003921502</td>\n",
       "      <td>None</td>\n",
       "      <td>100730943</td>\n",
       "      <td>16.67</td>\n",
       "      <td>determination</td>\n",
       "      <td>None</td>\n",
       "      <td>100958448</td>\n",
       "      <td>1</td>\n",
       "      <td>Crassula ovata E.Mey. ex Harv. &amp; Sond.</td>\n",
       "      <td>0.38907</td>\n",
       "      <td>...</td>\n",
       "      <td>1558821412237</td>\n",
       "      <td>2019</td>\n",
       "      <td>5</td>\n",
       "      <td>165</td>\n",
       "      <td>None</td>\n",
       "      <td>None</td>\n",
       "      <td>Crassulaceae</td>\n",
       "      <td>Crassula</td>\n",
       "      <td>Asteraceae</td>\n",
       "      <td>Limbarda</td>\n",
       "    </tr>\n",
       "    <tr>\n",
       "      <th>8886</th>\n",
       "      <td>1005029911</td>\n",
       "      <td>None</td>\n",
       "      <td>100730943</td>\n",
       "      <td>16.67</td>\n",
       "      <td>determination</td>\n",
       "      <td>None</td>\n",
       "      <td>100598861</td>\n",
       "      <td>1</td>\n",
       "      <td>Crassula ovata E.Mey. ex Harv. &amp; Sond.</td>\n",
       "      <td>0.66351</td>\n",
       "      <td>...</td>\n",
       "      <td>1570300762556</td>\n",
       "      <td>2019</td>\n",
       "      <td>10</td>\n",
       "      <td>33</td>\n",
       "      <td>None</td>\n",
       "      <td>None</td>\n",
       "      <td>Crassulaceae</td>\n",
       "      <td>Crassula</td>\n",
       "      <td>Aizoaceae</td>\n",
       "      <td>Disphyma</td>\n",
       "    </tr>\n",
       "    <tr>\n",
       "      <th>11194</th>\n",
       "      <td>1009671685</td>\n",
       "      <td>None</td>\n",
       "      <td>101458154</td>\n",
       "      <td>15.87</td>\n",
       "      <td>determination</td>\n",
       "      <td>None</td>\n",
       "      <td>102873009</td>\n",
       "      <td>1</td>\n",
       "      <td>Cucurbita pepo L.</td>\n",
       "      <td>0.23162</td>\n",
       "      <td>...</td>\n",
       "      <td>1614955267918</td>\n",
       "      <td>2021</td>\n",
       "      <td>3</td>\n",
       "      <td>850</td>\n",
       "      <td>None</td>\n",
       "      <td>None</td>\n",
       "      <td>Cucurbitaceae</td>\n",
       "      <td>Cucurbita</td>\n",
       "      <td>Cucurbitaceae</td>\n",
       "      <td>Citrullus</td>\n",
       "    </tr>\n",
       "  </tbody>\n",
       "</table>\n",
       "<p>5 rows × 25 columns</p>\n",
       "</div>"
      ],
      "text/plain": [
       "           obs_id item_id    user_id  user_weight interaction_type value  \\\n",
       "index                                                                      \n",
       "1267   1005188264    None  101445260        12.26    determination  None   \n",
       "8591   1002520557    None  101458154        15.87    determination  None   \n",
       "8876   1003921502    None  100730943        16.67    determination  None   \n",
       "8886   1005029911    None  100730943        16.67    determination  None   \n",
       "11194  1009671685    None  101458154        15.87    determination  None   \n",
       "\n",
       "      obs_author  number_of_items                      AI_determination_1  \\\n",
       "index                                                                       \n",
       "1267   101477745                1               Citrus limon (L.) Burm.f.   \n",
       "8591   100656323                1                    Camellia japonica L.   \n",
       "8876   100958448                1  Crassula ovata E.Mey. ex Harv. & Sond.   \n",
       "8886   100598861                1  Crassula ovata E.Mey. ex Harv. & Sond.   \n",
       "11194  102873009                1                       Cucurbita pepo L.   \n",
       "\n",
       "       AI_score_1  ... observation_time  observation_year  observation_month  \\\n",
       "index              ...                                                         \n",
       "1267      0.29117  ...    1573218504935              2019                 11   \n",
       "8591      0.24942  ...    1532466441000              2018                  7   \n",
       "8876      0.38907  ...    1558821412237              2019                  5   \n",
       "8886      0.66351  ...    1570300762556              2019                 10   \n",
       "11194     0.23162  ...    1614955267918              2021                  3   \n",
       "\n",
       "       interaction_time_gap  user_determination_family  \\\n",
       "index                                                    \n",
       "1267                      0                       None   \n",
       "8591                    444                       None   \n",
       "8876                    165                       None   \n",
       "8886                     33                       None   \n",
       "11194                   850                       None   \n",
       "\n",
       "       user_determination_genus  AI_determination_1_family  \\\n",
       "index                                                        \n",
       "1267                       None                   Rutaceae   \n",
       "8591                       None                   Theaceae   \n",
       "8876                       None               Crassulaceae   \n",
       "8886                       None               Crassulaceae   \n",
       "11194                      None              Cucurbitaceae   \n",
       "\n",
       "       AI_determination_1_genus  AI_determination_2_family  \\\n",
       "index                                                        \n",
       "1267                     Citrus               Celastraceae   \n",
       "8591                   Camellia                   Rosaceae   \n",
       "8876                   Crassula                 Asteraceae   \n",
       "8886                   Crassula                  Aizoaceae   \n",
       "11194                 Cucurbita              Cucurbitaceae   \n",
       "\n",
       "      AI_determination_2_genus  \n",
       "index                           \n",
       "1267                  Euonymus  \n",
       "8591                      Rosa  \n",
       "8876                  Limbarda  \n",
       "8886                  Disphyma  \n",
       "11194                Citrullus  \n",
       "\n",
       "[5 rows x 25 columns]"
      ]
     },
     "execution_count": 72,
     "metadata": {},
     "output_type": "execute_result"
    }
   ],
   "source": [
    "df_plantnet = df_plantnet[df_plantnet[keyword].isin(le_item.classes_)]\n",
    "df_plantnet = df_plantnet[df_plantnet[\"user_id\"].isin(le_user.classes_)]\n",
    "df_plantnet = df_plantnet[df_plantnet[\"interaction_type\"] == \"determination\"]\n",
    "df_plantnet.head()"
   ]
  },
  {
   "cell_type": "code",
   "execution_count": 75,
   "metadata": {},
   "outputs": [
    {
     "name": "stdout",
     "output_type": "stream",
     "text": [
      "Number of rows: 261,995\n",
      "Number of users: 4,856\n",
      "Number of items: 1,803\n",
      "Mean response rate: 0.9500\n",
      "\n",
      "Number of rows: 67,879\n",
      "Number of users: 4,856\n",
      "Number of items: 1,653\n",
      "Mean response rate: 0.9519\n",
      "\n"
     ]
    }
   ],
   "source": [
    "def stratified_split(data, test_size=0.2):\n",
    "    train_data = pd.DataFrame()\n",
    "    test_data = pd.DataFrame()\n",
    "\n",
    "    # Perform stratified split by user\n",
    "    for user_id, user_data in data.groupby(\"user_id\"):\n",
    "        user_train, user_test = train_test_split(\n",
    "            user_data, test_size=test_size, random_state=42\n",
    "        )\n",
    "        train_data = pd.concat([train_data, user_train])\n",
    "        test_data = pd.concat([test_data, user_test])\n",
    "\n",
    "    return train_data.reset_index(drop=True), test_data.reset_index(drop=True)\n",
    "\n",
    "\n",
    "train_log, test_log = stratified_split(logs)\n",
    "\n",
    "from mab2rec.utils import print_interaction_stats\n",
    "\n",
    "print_interaction_stats(train_log)\n",
    "print_interaction_stats(test_log)\n",
    "\n",
    "reader = Reader(rating_scale=(0, 1))\n",
    "\n",
    "train_log.columns = [\"userID\", \"itemID\", \"rating\"]\n",
    "test_log.columns = [\"userID\", \"itemID\", \"rating\"]\n",
    "\n",
    "userRatings_data_train = Dataset.load_from_df(train_log, reader).build_full_trainset()\n",
    "algo = SVD(biased=False)\n",
    "algo.fit(userRatings_data_train)\n",
    "features_users_svd = algo.pu\n",
    "features_items_svd = algo.qi"
   ]
  },
  {
   "cell_type": "markdown",
   "metadata": {},
   "source": [
    "Save everything to csv format"
   ]
  },
  {
   "cell_type": "code",
   "execution_count": 66,
   "metadata": {},
   "outputs": [],
   "source": [
    "features_users_svd = np.hstack(\n",
    "    (np.arange(features_users_svd.shape[0]).reshape(-1, 1), features_users_svd))\n",
    "train_log.columns = [\"user_id\", \"item_id\" ,\"response\"]\n",
    "test_log.columns = [\"user_id\", \"item_id\", \"response\"]"
   ]
  },
  {
   "cell_type": "code",
   "execution_count": 67,
   "metadata": {},
   "outputs": [
    {
     "data": {
      "text/html": [
       "<div>\n",
       "<style scoped>\n",
       "    .dataframe tbody tr th:only-of-type {\n",
       "        vertical-align: middle;\n",
       "    }\n",
       "\n",
       "    .dataframe tbody tr th {\n",
       "        vertical-align: top;\n",
       "    }\n",
       "\n",
       "    .dataframe thead th {\n",
       "        text-align: right;\n",
       "    }\n",
       "</style>\n",
       "<table border=\"1\" class=\"dataframe\">\n",
       "  <thead>\n",
       "    <tr style=\"text-align: right;\">\n",
       "      <th></th>\n",
       "      <th>user_id</th>\n",
       "      <th>1</th>\n",
       "      <th>2</th>\n",
       "      <th>3</th>\n",
       "      <th>4</th>\n",
       "      <th>5</th>\n",
       "      <th>6</th>\n",
       "      <th>7</th>\n",
       "      <th>8</th>\n",
       "      <th>9</th>\n",
       "      <th>...</th>\n",
       "      <th>91</th>\n",
       "      <th>92</th>\n",
       "      <th>93</th>\n",
       "      <th>94</th>\n",
       "      <th>95</th>\n",
       "      <th>96</th>\n",
       "      <th>97</th>\n",
       "      <th>98</th>\n",
       "      <th>99</th>\n",
       "      <th>100</th>\n",
       "    </tr>\n",
       "  </thead>\n",
       "  <tbody>\n",
       "    <tr>\n",
       "      <th>0</th>\n",
       "      <td>0.0</td>\n",
       "      <td>0.223352</td>\n",
       "      <td>0.301377</td>\n",
       "      <td>0.134819</td>\n",
       "      <td>0.007108</td>\n",
       "      <td>0.105576</td>\n",
       "      <td>-0.216178</td>\n",
       "      <td>-0.138300</td>\n",
       "      <td>0.005484</td>\n",
       "      <td>-0.074147</td>\n",
       "      <td>...</td>\n",
       "      <td>-0.170961</td>\n",
       "      <td>0.009595</td>\n",
       "      <td>-0.153124</td>\n",
       "      <td>0.125818</td>\n",
       "      <td>0.012002</td>\n",
       "      <td>-0.006392</td>\n",
       "      <td>-0.174077</td>\n",
       "      <td>0.016589</td>\n",
       "      <td>-0.068909</td>\n",
       "      <td>-0.078080</td>\n",
       "    </tr>\n",
       "    <tr>\n",
       "      <th>1</th>\n",
       "      <td>1.0</td>\n",
       "      <td>0.164473</td>\n",
       "      <td>0.277950</td>\n",
       "      <td>0.176180</td>\n",
       "      <td>0.004672</td>\n",
       "      <td>0.145782</td>\n",
       "      <td>-0.059033</td>\n",
       "      <td>-0.065897</td>\n",
       "      <td>0.094464</td>\n",
       "      <td>-0.037459</td>\n",
       "      <td>...</td>\n",
       "      <td>-0.050514</td>\n",
       "      <td>0.103917</td>\n",
       "      <td>-0.097803</td>\n",
       "      <td>0.110351</td>\n",
       "      <td>-0.050090</td>\n",
       "      <td>0.095493</td>\n",
       "      <td>-0.091894</td>\n",
       "      <td>0.113430</td>\n",
       "      <td>-0.235197</td>\n",
       "      <td>-0.013188</td>\n",
       "    </tr>\n",
       "    <tr>\n",
       "      <th>2</th>\n",
       "      <td>2.0</td>\n",
       "      <td>0.171045</td>\n",
       "      <td>0.222277</td>\n",
       "      <td>0.107827</td>\n",
       "      <td>0.078445</td>\n",
       "      <td>0.221464</td>\n",
       "      <td>-0.151604</td>\n",
       "      <td>-0.105996</td>\n",
       "      <td>0.059637</td>\n",
       "      <td>-0.103868</td>\n",
       "      <td>...</td>\n",
       "      <td>-0.232050</td>\n",
       "      <td>0.014128</td>\n",
       "      <td>-0.111372</td>\n",
       "      <td>-0.092694</td>\n",
       "      <td>-0.164949</td>\n",
       "      <td>-0.012834</td>\n",
       "      <td>-0.027120</td>\n",
       "      <td>0.098167</td>\n",
       "      <td>-0.106907</td>\n",
       "      <td>-0.075645</td>\n",
       "    </tr>\n",
       "    <tr>\n",
       "      <th>3</th>\n",
       "      <td>3.0</td>\n",
       "      <td>0.019481</td>\n",
       "      <td>0.312415</td>\n",
       "      <td>0.244894</td>\n",
       "      <td>0.008833</td>\n",
       "      <td>0.157942</td>\n",
       "      <td>-0.163594</td>\n",
       "      <td>-0.234283</td>\n",
       "      <td>0.091936</td>\n",
       "      <td>0.201672</td>\n",
       "      <td>...</td>\n",
       "      <td>-0.109661</td>\n",
       "      <td>-0.327564</td>\n",
       "      <td>-0.034659</td>\n",
       "      <td>0.072995</td>\n",
       "      <td>-0.163752</td>\n",
       "      <td>-0.020802</td>\n",
       "      <td>-0.197229</td>\n",
       "      <td>0.192043</td>\n",
       "      <td>-0.159292</td>\n",
       "      <td>-0.014949</td>\n",
       "    </tr>\n",
       "    <tr>\n",
       "      <th>4</th>\n",
       "      <td>4.0</td>\n",
       "      <td>-0.071629</td>\n",
       "      <td>0.264935</td>\n",
       "      <td>0.052252</td>\n",
       "      <td>0.045697</td>\n",
       "      <td>0.072841</td>\n",
       "      <td>-0.161931</td>\n",
       "      <td>-0.036592</td>\n",
       "      <td>-0.129301</td>\n",
       "      <td>-0.101220</td>\n",
       "      <td>...</td>\n",
       "      <td>-0.120158</td>\n",
       "      <td>0.022901</td>\n",
       "      <td>-0.146237</td>\n",
       "      <td>0.067074</td>\n",
       "      <td>-0.041803</td>\n",
       "      <td>0.024003</td>\n",
       "      <td>-0.054785</td>\n",
       "      <td>0.046184</td>\n",
       "      <td>-0.110205</td>\n",
       "      <td>-0.084034</td>\n",
       "    </tr>\n",
       "  </tbody>\n",
       "</table>\n",
       "<p>5 rows × 101 columns</p>\n",
       "</div>"
      ],
      "text/plain": [
       "   user_id         1         2         3         4         5         6  \\\n",
       "0      0.0  0.223352  0.301377  0.134819  0.007108  0.105576 -0.216178   \n",
       "1      1.0  0.164473  0.277950  0.176180  0.004672  0.145782 -0.059033   \n",
       "2      2.0  0.171045  0.222277  0.107827  0.078445  0.221464 -0.151604   \n",
       "3      3.0  0.019481  0.312415  0.244894  0.008833  0.157942 -0.163594   \n",
       "4      4.0 -0.071629  0.264935  0.052252  0.045697  0.072841 -0.161931   \n",
       "\n",
       "          7         8         9  ...        91        92        93        94  \\\n",
       "0 -0.138300  0.005484 -0.074147  ... -0.170961  0.009595 -0.153124  0.125818   \n",
       "1 -0.065897  0.094464 -0.037459  ... -0.050514  0.103917 -0.097803  0.110351   \n",
       "2 -0.105996  0.059637 -0.103868  ... -0.232050  0.014128 -0.111372 -0.092694   \n",
       "3 -0.234283  0.091936  0.201672  ... -0.109661 -0.327564 -0.034659  0.072995   \n",
       "4 -0.036592 -0.129301 -0.101220  ... -0.120158  0.022901 -0.146237  0.067074   \n",
       "\n",
       "         95        96        97        98        99       100  \n",
       "0  0.012002 -0.006392 -0.174077  0.016589 -0.068909 -0.078080  \n",
       "1 -0.050090  0.095493 -0.091894  0.113430 -0.235197 -0.013188  \n",
       "2 -0.164949 -0.012834 -0.027120  0.098167 -0.106907 -0.075645  \n",
       "3 -0.163752 -0.020802 -0.197229  0.192043 -0.159292 -0.014949  \n",
       "4 -0.041803  0.024003 -0.054785  0.046184 -0.110205 -0.084034  \n",
       "\n",
       "[5 rows x 101 columns]"
      ]
     },
     "execution_count": 67,
     "metadata": {},
     "output_type": "execute_result"
    }
   ],
   "source": [
    "features_users_svd = pd.DataFrame(features_users_svd)\n",
    "features_users_svd = features_users_svd.rename(columns={0: \"user_id\"})\n",
    "features_users_svd.to_csv(\"./simulated_data/user_features_plantnet.csv\", index=False)\n",
    "train_log.to_csv(\"./simulated_data/train_log_plantnet.csv\", index=False)\n",
    "test_log.to_csv(\"./simulated_data/test_log_plantnet.csv\", index=False)\n",
    "features_users_svd.head()"
   ]
  },
  {
   "cell_type": "markdown",
   "metadata": {},
   "source": [
    "## Run recsys without aggregation constraints"
   ]
  },
  {
   "cell_type": "code",
   "execution_count": 54,
   "metadata": {},
   "outputs": [
    {
     "data": {
      "text/html": [
       "<div>\n",
       "<style scoped>\n",
       "    .dataframe tbody tr th:only-of-type {\n",
       "        vertical-align: middle;\n",
       "    }\n",
       "\n",
       "    .dataframe tbody tr th {\n",
       "        vertical-align: top;\n",
       "    }\n",
       "\n",
       "    .dataframe thead th {\n",
       "        text-align: right;\n",
       "    }\n",
       "</style>\n",
       "<table border=\"1\" class=\"dataframe\">\n",
       "  <thead>\n",
       "    <tr style=\"text-align: right;\">\n",
       "      <th></th>\n",
       "      <th>user_id</th>\n",
       "      <th>item_id</th>\n",
       "      <th>response</th>\n",
       "    </tr>\n",
       "  </thead>\n",
       "  <tbody>\n",
       "    <tr>\n",
       "      <th>0</th>\n",
       "      <td>0</td>\n",
       "      <td>175</td>\n",
       "      <td>True</td>\n",
       "    </tr>\n",
       "    <tr>\n",
       "      <th>1</th>\n",
       "      <td>0</td>\n",
       "      <td>189</td>\n",
       "      <td>True</td>\n",
       "    </tr>\n",
       "    <tr>\n",
       "      <th>2</th>\n",
       "      <td>0</td>\n",
       "      <td>86</td>\n",
       "      <td>True</td>\n",
       "    </tr>\n",
       "    <tr>\n",
       "      <th>3</th>\n",
       "      <td>0</td>\n",
       "      <td>116</td>\n",
       "      <td>True</td>\n",
       "    </tr>\n",
       "    <tr>\n",
       "      <th>4</th>\n",
       "      <td>0</td>\n",
       "      <td>96</td>\n",
       "      <td>True</td>\n",
       "    </tr>\n",
       "    <tr>\n",
       "      <th>...</th>\n",
       "      <td>...</td>\n",
       "      <td>...</td>\n",
       "      <td>...</td>\n",
       "    </tr>\n",
       "    <tr>\n",
       "      <th>4859</th>\n",
       "      <td>186</td>\n",
       "      <td>29</td>\n",
       "      <td>True</td>\n",
       "    </tr>\n",
       "    <tr>\n",
       "      <th>4860</th>\n",
       "      <td>186</td>\n",
       "      <td>90</td>\n",
       "      <td>True</td>\n",
       "    </tr>\n",
       "    <tr>\n",
       "      <th>4861</th>\n",
       "      <td>186</td>\n",
       "      <td>44</td>\n",
       "      <td>True</td>\n",
       "    </tr>\n",
       "    <tr>\n",
       "      <th>4862</th>\n",
       "      <td>186</td>\n",
       "      <td>207</td>\n",
       "      <td>True</td>\n",
       "    </tr>\n",
       "    <tr>\n",
       "      <th>4863</th>\n",
       "      <td>186</td>\n",
       "      <td>201</td>\n",
       "      <td>True</td>\n",
       "    </tr>\n",
       "  </tbody>\n",
       "</table>\n",
       "<p>23929 rows × 3 columns</p>\n",
       "</div>"
      ],
      "text/plain": [
       "      user_id  item_id  response\n",
       "0           0      175      True\n",
       "1           0      189      True\n",
       "2           0       86      True\n",
       "3           0      116      True\n",
       "4           0       96      True\n",
       "...       ...      ...       ...\n",
       "4859      186       29      True\n",
       "4860      186       90      True\n",
       "4861      186       44      True\n",
       "4862      186      207      True\n",
       "4863      186      201      True\n",
       "\n",
       "[23929 rows x 3 columns]"
      ]
     },
     "execution_count": 54,
     "metadata": {},
     "output_type": "execute_result"
    }
   ],
   "source": [
    "rating_df = pd.concat([train_log, test_log])\n",
    "rating_df"
   ]
  },
  {
   "cell_type": "code",
   "execution_count": 55,
   "metadata": {},
   "outputs": [],
   "source": [
    "class linucb_disjoint_arm:\n",
    "\n",
    "    def __init__(self, arm_index, d, alpha):\n",
    "        self.arm_index = arm_index\n",
    "        self.alpha = alpha\n",
    "        self.A = np.identity(d)\n",
    "        self.b = np.zeros([d, 1])\n",
    "\n",
    "    def calc_UCB(self, x_array):\n",
    "        A_inv = np.linalg.inv(self.A)\n",
    "        self.theta = np.dot(A_inv, self.b)\n",
    "        x = x_array.reshape([-1, 1])\n",
    "        p = np.dot(self.theta.T, x) + self.alpha * np.sqrt(\n",
    "            np.dot(x.T, np.dot(A_inv, x))\n",
    "        )\n",
    "        return p\n",
    "\n",
    "    def reward_update(self, reward, x_array):\n",
    "        x = x_array.reshape([-1, 1])\n",
    "        self.A += np.dot(x, x.T)\n",
    "        self.b += reward * x\n",
    "\n",
    "class linucb_policy():\n",
    "\n",
    "    def __init__(self, K_arms, d, alpha):\n",
    "        self.K_arms = K_arms\n",
    "        self.linucb_arms = [linucb_disjoint_arm(arm_index = i, d = d, alpha = alpha) for i in range(K_arms)]\n",
    "\n",
    "    def select_arm(self, x_array):\n",
    "        highest_ucb = -1\n",
    "        candidate_arms = []\n",
    "\n",
    "        for arm_index in range(self.K_arms):\n",
    "            arm_ucb = self.linucb_arms[arm_index].calc_UCB(x_array)\n",
    "            if arm_ucb > highest_ucb:\n",
    "                highest_ucb = arm_ucb\n",
    "                candidate_arms = [arm_index]\n",
    "\n",
    "            if arm_ucb == highest_ucb:\n",
    "                candidate_arms.append(arm_index)\n",
    "        chosen_arm = np.random.choice(candidate_arms)\n",
    "        return chosen_arm\n"
   ]
  },
  {
   "cell_type": "code",
   "execution_count": 56,
   "metadata": {},
   "outputs": [],
   "source": [
    "def ctr_simulator(K_arms, d, alpha, user_features):\n",
    "    linucb_policy_object = linucb_policy(K_arms=K_arms, d=d, alpha=alpha)\n",
    "    aligned_time_steps = 0\n",
    "    cumulative_rewards = 0\n",
    "    aligned_ctr = []\n",
    "    for row in tqdm(rating_df.values, total=len(rating_df)):\n",
    "        user, item, rating = row\n",
    "        data_arm = row[1]\n",
    "        data_reward = row[2]\n",
    "        data_x_array = user_features[user]\n",
    "\n",
    "        arm_index = linucb_policy_object.select_arm(data_x_array)\n",
    "\n",
    "        if arm_index + 1 == data_arm:\n",
    "            linucb_policy_object.linucb_arms[arm_index].reward_update(\n",
    "                    data_reward, data_x_array\n",
    "                )\n",
    "            aligned_time_steps += 1\n",
    "            cumulative_rewards += data_reward\n",
    "            aligned_ctr.append(cumulative_rewards / aligned_time_steps)\n",
    "    return (aligned_time_steps, cumulative_rewards, aligned_ctr, linucb_policy_object)"
   ]
  },
  {
   "cell_type": "code",
   "execution_count": 57,
   "metadata": {},
   "outputs": [
    {
     "data": {
      "application/vnd.jupyter.widget-view+json": {
       "model_id": "d007fdfb12214d258fd05944bdf9911e",
       "version_major": 2,
       "version_minor": 0
      },
      "text/plain": [
       "  0%|          | 0/23929 [00:00<?, ?it/s]"
      ]
     },
     "metadata": {},
     "output_type": "display_data"
    }
   ],
   "source": [
    "aligned_time_steps, cum_rewards, aligned_ctr, policy = ctr_simulator(\n",
    "    K_arms=rating_df[\"item_id\"].nunique(),\n",
    "    d=features_users_svd.shape[1],\n",
    "    alpha=1.0,\n",
    "    user_features=features_users_svd.values[:, 1:],\n",
    ")"
   ]
  },
  {
   "cell_type": "code",
   "execution_count": 58,
   "metadata": {},
   "outputs": [
    {
     "data": {
      "text/plain": [
       "Text(0.5, 1.0, 'alpha = 1')"
      ]
     },
     "execution_count": 58,
     "metadata": {},
     "output_type": "execute_result"
    },
    {
     "data": {
      "image/png": "[encoded data removed]",
      "text/plain": [
       "<Figure size 432x288 with 1 Axes>"
      ]
     },
     "metadata": {
      "needs_background": "light"
     },
     "output_type": "display_data"
    }
   ],
   "source": [
    "plt.plot(aligned_ctr)\n",
    "plt.title(\"alpha = 1\")"
   ]
  },
  {
   "cell_type": "markdown",
   "metadata": {},
   "source": [
    "## Run 2"
   ]
  },
  {
   "cell_type": "code",
   "execution_count": 58,
   "metadata": {},
   "outputs": [
    {
     "data": {
      "text/html": [
       "<div>\n",
       "<style scoped>\n",
       "    .dataframe tbody tr th:only-of-type {\n",
       "        vertical-align: middle;\n",
       "    }\n",
       "\n",
       "    .dataframe tbody tr th {\n",
       "        vertical-align: top;\n",
       "    }\n",
       "\n",
       "    .dataframe thead th {\n",
       "        text-align: right;\n",
       "    }\n",
       "</style>\n",
       "<table border=\"1\" class=\"dataframe\">\n",
       "  <thead>\n",
       "    <tr style=\"text-align: right;\">\n",
       "      <th></th>\n",
       "      <th>user_id</th>\n",
       "      <th>item_id</th>\n",
       "      <th>response</th>\n",
       "    </tr>\n",
       "  </thead>\n",
       "  <tbody>\n",
       "    <tr>\n",
       "      <th>0</th>\n",
       "      <td>0</td>\n",
       "      <td>828</td>\n",
       "      <td>True</td>\n",
       "    </tr>\n",
       "    <tr>\n",
       "      <th>1</th>\n",
       "      <td>0</td>\n",
       "      <td>48</td>\n",
       "      <td>True</td>\n",
       "    </tr>\n",
       "    <tr>\n",
       "      <th>2</th>\n",
       "      <td>0</td>\n",
       "      <td>846</td>\n",
       "      <td>True</td>\n",
       "    </tr>\n",
       "    <tr>\n",
       "      <th>3</th>\n",
       "      <td>0</td>\n",
       "      <td>1513</td>\n",
       "      <td>True</td>\n",
       "    </tr>\n",
       "    <tr>\n",
       "      <th>4</th>\n",
       "      <td>0</td>\n",
       "      <td>345</td>\n",
       "      <td>True</td>\n",
       "    </tr>\n",
       "    <tr>\n",
       "      <th>...</th>\n",
       "      <td>...</td>\n",
       "      <td>...</td>\n",
       "      <td>...</td>\n",
       "    </tr>\n",
       "    <tr>\n",
       "      <th>35411</th>\n",
       "      <td>706</td>\n",
       "      <td>761</td>\n",
       "      <td>True</td>\n",
       "    </tr>\n",
       "    <tr>\n",
       "      <th>35412</th>\n",
       "      <td>706</td>\n",
       "      <td>305</td>\n",
       "      <td>True</td>\n",
       "    </tr>\n",
       "    <tr>\n",
       "      <th>35413</th>\n",
       "      <td>706</td>\n",
       "      <td>1246</td>\n",
       "      <td>True</td>\n",
       "    </tr>\n",
       "    <tr>\n",
       "      <th>35414</th>\n",
       "      <td>706</td>\n",
       "      <td>828</td>\n",
       "      <td>True</td>\n",
       "    </tr>\n",
       "    <tr>\n",
       "      <th>35415</th>\n",
       "      <td>706</td>\n",
       "      <td>1308</td>\n",
       "      <td>True</td>\n",
       "    </tr>\n",
       "  </tbody>\n",
       "</table>\n",
       "<p>175678 rows × 3 columns</p>\n",
       "</div>"
      ],
      "text/plain": [
       "       user_id  item_id  response\n",
       "0            0      828      True\n",
       "1            0       48      True\n",
       "2            0      846      True\n",
       "3            0     1513      True\n",
       "4            0      345      True\n",
       "...        ...      ...       ...\n",
       "35411      706      761      True\n",
       "35412      706      305      True\n",
       "35413      706     1246      True\n",
       "35414      706      828      True\n",
       "35415      706     1308      True\n",
       "\n",
       "[175678 rows x 3 columns]"
      ]
     },
     "execution_count": 58,
     "metadata": {},
     "output_type": "execute_result"
    }
   ],
   "source": [
    "rating_df = pd.concat([train_log, test_log])\n",
    "rating_df"
   ]
  },
  {
   "cell_type": "code",
   "execution_count": 59,
   "metadata": {},
   "outputs": [],
   "source": [
    "from tqdm.auto import tqdm\n",
    "\n",
    "\n",
    "class ReplaySimulator:\n",
    "    def __init__(\n",
    "        self,\n",
    "        n_visits,\n",
    "        reward_history,\n",
    "        item_col_name,\n",
    "        visitor_col_name,\n",
    "        reward_col_name,\n",
    "        n_iterations=1,\n",
    "        random_seed=1,\n",
    "    ):\n",
    "        np.random.seed(random_seed)\n",
    "        self.reward_history = reward_history\n",
    "        self.item_col_name = item_col_name\n",
    "        self.visitor_col_name = visitor_col_name\n",
    "        self.reward_col_name = reward_col_name\n",
    "        self.n_visits = n_visits\n",
    "        self.n_iterations = n_iterations\n",
    "        self.items = self.reward_history[self.item_col_name].unique()\n",
    "        self.n_items = len(self.items)\n",
    "        self.visitors = self.reward_history[self.visitor_col_name].unique()\n",
    "        self.n_visitors = len(self.visitors)\n",
    "\n",
    "    def reset(self):\n",
    "        self.n_item_samples = np.zeros(self.n_items)\n",
    "        self.n_item_rewards = np.zeros(self.n_items)\n",
    "\n",
    "    def replay(self):\n",
    "        results = []\n",
    "        for iteration in tqdm(range(self.n_iterations), total=self.n_iterations):\n",
    "            self.reset()\n",
    "            total_rewards = 0\n",
    "            fraction_relevant = np.zeros(self.n_visits)\n",
    "\n",
    "            for visit in tqdm(\n",
    "                range(self.n_visits), desc=\"Visits\", total=self.n_visits, leave=False\n",
    "            ):\n",
    "                found_match = False\n",
    "                while not found_match:\n",
    "                    visitor_idx = np.random.randint(self.n_visitors)\n",
    "                    visitor_id = self.visitors[visitor_idx]\n",
    "                    item_idx = self.select_item()\n",
    "                    item_id = self.items[item_idx]\n",
    "                    reward = self.reward_history.query(\n",
    "                        f\"{self.item_col_name} == @item_id and {self.visitor_col_name} == @visitor_id\"\n",
    "                    )[self.reward_col_name]\n",
    "                    found_match = reward.shape[0] > 0\n",
    "\n",
    "                reward_value = reward.iloc[0]\n",
    "                self.record_result(visit, item_idx, reward_value)\n",
    "                total_rewards += reward_value\n",
    "                fraction_relevant[visit] = total_rewards / (visit + 1)\n",
    "                results.append(\n",
    "                    {\n",
    "                        \"iteration\": iteration,\n",
    "                        \"visit\": visit,\n",
    "                        \"item_id\": item_id,\n",
    "                        \"visitor_id\": visitor_id,\n",
    "                        \"reward\": reward_value,\n",
    "                        \"total_reward\": total_rewards,\n",
    "                        \"fraction_relevant\": fraction_relevant[visit],\n",
    "                    }\n",
    "                )\n",
    "        return results\n",
    "\n",
    "    def select_item(self):\n",
    "        return np.random.randint(self.n_items)\n",
    "\n",
    "    def record_result(self, visit, item_idx, reward):\n",
    "        self.n_item_samples[item_idx] += 1\n",
    "        alpha = 1.0 / self.n_item_samples[item_idx]\n",
    "        self.n_item_rewards[item_idx] += alpha * (\n",
    "            reward - self.n_item_rewards[item_idx]\n",
    "        )"
   ]
  },
  {
   "cell_type": "code",
   "execution_count": 60,
   "metadata": {},
   "outputs": [],
   "source": [
    "class RandomReplayer(ReplaySimulator):\n",
    "    def __init__(\n",
    "        self,\n",
    "        n_visits,\n",
    "        reward_history,\n",
    "        item_col_name,\n",
    "        visitor_col_name,\n",
    "        reward_col_name,\n",
    "        n_iterations=1,\n",
    "    ):\n",
    "        super(RandomReplayer, self).__init__(\n",
    "            n_visits,\n",
    "            reward_history,\n",
    "            item_col_name,\n",
    "            visitor_col_name,\n",
    "            reward_col_name,\n",
    "            n_iterations,\n",
    "        )\n",
    "\n",
    "    def select_item(self):\n",
    "        return np.random.choice(len(self.n_item_rewards))"
   ]
  },
  {
   "cell_type": "code",
   "execution_count": 61,
   "metadata": {},
   "outputs": [],
   "source": [
    "class EpsilonGreedyReplayer(ReplaySimulator):\n",
    "    def __init__(\n",
    "        self,\n",
    "        epsilon,\n",
    "        n_visits,\n",
    "        reward_history,\n",
    "        item_col_name,\n",
    "        visitor_col_name,\n",
    "        reward_col_name,\n",
    "        n_iterations=1,\n",
    "    ):\n",
    "        super(EpsilonGreedyReplayer, self).__init__(\n",
    "            n_visits,\n",
    "            reward_history,\n",
    "            item_col_name,\n",
    "            visitor_col_name,\n",
    "            reward_col_name,\n",
    "            n_iterations,\n",
    "        )\n",
    "        self.epsilon = epsilon\n",
    "\n",
    "    def select_item(self):\n",
    "        if np.random.uniform() < self.epsilon:  # explore\n",
    "            item_id = super(EpsilonGreedyReplayer, self).select_item()\n",
    "        else:\n",
    "            item_id = np.argmax(self.n_item_rewards)\n",
    "        return item_id"
   ]
  },
  {
   "cell_type": "code",
   "execution_count": 62,
   "metadata": {},
   "outputs": [],
   "source": [
    "class ThompsonSamplingReplayer(ReplaySimulator):\n",
    "    def reset(self):\n",
    "        self.alphas = np.ones(self.n_items)\n",
    "        self.betas = np.ones(self.n_items)\n",
    "\n",
    "    def select_item(self):\n",
    "        samples = [np.random.beta(a, b) for a, b in zip(self.alphas, self.betas)]\n",
    "        return np.argmax(samples)\n",
    "\n",
    "    def record_result(self, visit, item_idx, reward):\n",
    "        if reward == 1:\n",
    "            self.alphas[item_idx] += 1\n",
    "        else:\n",
    "            self.betas[item_idx] += 1"
   ]
  },
  {
   "cell_type": "code",
   "execution_count": 63,
   "metadata": {},
   "outputs": [
    {
     "data": {
      "application/vnd.jupyter.widget-view+json": {
       "model_id": "cf5dc8d4ca9640c7b9f291e32622e04f",
       "version_major": 2,
       "version_minor": 0
      },
      "text/plain": [
       "  0%|          | 0/5 [00:00<?, ?it/s]"
      ]
     },
     "metadata": {},
     "output_type": "display_data"
    },
    {
     "data": {
      "application/vnd.jupyter.widget-view+json": {
       "model_id": "d2182417076b4159820326acc7b2060b",
       "version_major": 2,
       "version_minor": 0
      },
      "text/plain": [
       "Visits:   0%|          | 0/10000 [00:00<?, ?it/s]"
      ]
     },
     "metadata": {},
     "output_type": "display_data"
    },
    {
     "data": {
      "application/vnd.jupyter.widget-view+json": {
       "model_id": "f2da5420601243129f0e737feec8345d",
       "version_major": 2,
       "version_minor": 0
      },
      "text/plain": [
       "Visits:   0%|          | 0/10000 [00:00<?, ?it/s]"
      ]
     },
     "metadata": {},
     "output_type": "display_data"
    },
    {
     "data": {
      "application/vnd.jupyter.widget-view+json": {
       "model_id": "a681be13bc8f4867a40081d5e3a2eb3d",
       "version_major": 2,
       "version_minor": 0
      },
      "text/plain": [
       "Visits:   0%|          | 0/10000 [00:00<?, ?it/s]"
      ]
     },
     "metadata": {},
     "output_type": "display_data"
    },
    {
     "data": {
      "application/vnd.jupyter.widget-view+json": {
       "model_id": "5603e35443634966a8cb2519660c9134",
       "version_major": 2,
       "version_minor": 0
      },
      "text/plain": [
       "Visits:   0%|          | 0/10000 [00:00<?, ?it/s]"
      ]
     },
     "metadata": {},
     "output_type": "display_data"
    },
    {
     "data": {
      "application/vnd.jupyter.widget-view+json": {
       "model_id": "29969caaedc542b1abc044a9173ba868",
       "version_major": 2,
       "version_minor": 0
      },
      "text/plain": [
       "Visits:   0%|          | 0/10000 [00:00<?, ?it/s]"
      ]
     },
     "metadata": {},
     "output_type": "display_data"
    },
    {
     "data": {
      "application/vnd.jupyter.widget-view+json": {
       "model_id": "28290f69c211462a9d084f737367d01a",
       "version_major": 2,
       "version_minor": 0
      },
      "text/plain": [
       "  0%|          | 0/5 [00:00<?, ?it/s]"
      ]
     },
     "metadata": {},
     "output_type": "display_data"
    },
    {
     "data": {
      "application/vnd.jupyter.widget-view+json": {
       "model_id": "a2e4c7e4a4384b4680fce654ba4733a8",
       "version_major": 2,
       "version_minor": 0
      },
      "text/plain": [
       "Visits:   0%|          | 0/10000 [00:00<?, ?it/s]"
      ]
     },
     "metadata": {},
     "output_type": "display_data"
    },
    {
     "data": {
      "application/vnd.jupyter.widget-view+json": {
       "model_id": "1e777a7c59354e8f82db687c0da34f47",
       "version_major": 2,
       "version_minor": 0
      },
      "text/plain": [
       "Visits:   0%|          | 0/10000 [00:00<?, ?it/s]"
      ]
     },
     "metadata": {},
     "output_type": "display_data"
    },
    {
     "data": {
      "application/vnd.jupyter.widget-view+json": {
       "model_id": "375efb158fd84c66aadc48c1b01eeceb",
       "version_major": 2,
       "version_minor": 0
      },
      "text/plain": [
       "Visits:   0%|          | 0/10000 [00:00<?, ?it/s]"
      ]
     },
     "metadata": {},
     "output_type": "display_data"
    },
    {
     "data": {
      "application/vnd.jupyter.widget-view+json": {
       "model_id": "68edf8d37283447bb3a6cc499b9b1908",
       "version_major": 2,
       "version_minor": 0
      },
      "text/plain": [
       "Visits:   0%|          | 0/10000 [00:00<?, ?it/s]"
      ]
     },
     "metadata": {},
     "output_type": "display_data"
    },
    {
     "data": {
      "application/vnd.jupyter.widget-view+json": {
       "model_id": "8a5ccdbd7f244017ae5bea605e26ae52",
       "version_major": 2,
       "version_minor": 0
      },
      "text/plain": [
       "Visits:   0%|          | 0/10000 [00:00<?, ?it/s]"
      ]
     },
     "metadata": {},
     "output_type": "display_data"
    },
    {
     "data": {
      "application/vnd.jupyter.widget-view+json": {
       "model_id": "7e50b7db6c77439f9d59b17c81c5a56f",
       "version_major": 2,
       "version_minor": 0
      },
      "text/plain": [
       "  0%|          | 0/5 [00:00<?, ?it/s]"
      ]
     },
     "metadata": {},
     "output_type": "display_data"
    },
    {
     "data": {
      "application/vnd.jupyter.widget-view+json": {
       "model_id": "6992282aadf040478d170579bcb92e5b",
       "version_major": 2,
       "version_minor": 0
      },
      "text/plain": [
       "Visits:   0%|          | 0/10000 [00:00<?, ?it/s]"
      ]
     },
     "metadata": {},
     "output_type": "display_data"
    },
    {
     "data": {
      "application/vnd.jupyter.widget-view+json": {
       "model_id": "968c72ce98164fa1938381bc3439e5bb",
       "version_major": 2,
       "version_minor": 0
      },
      "text/plain": [
       "Visits:   0%|          | 0/10000 [00:00<?, ?it/s]"
      ]
     },
     "metadata": {},
     "output_type": "display_data"
    },
    {
     "data": {
      "application/vnd.jupyter.widget-view+json": {
       "model_id": "281168ccb82d4f2d9bcdf24b28f1ee63",
       "version_major": 2,
       "version_minor": 0
      },
      "text/plain": [
       "Visits:   0%|          | 0/10000 [00:00<?, ?it/s]"
      ]
     },
     "metadata": {},
     "output_type": "display_data"
    },
    {
     "data": {
      "application/vnd.jupyter.widget-view+json": {
       "model_id": "2fea3e05a5fd4275a9d48536fd5b9052",
       "version_major": 2,
       "version_minor": 0
      },
      "text/plain": [
       "Visits:   0%|          | 0/10000 [00:00<?, ?it/s]"
      ]
     },
     "metadata": {},
     "output_type": "display_data"
    },
    {
     "data": {
      "application/vnd.jupyter.widget-view+json": {
       "model_id": "eda3ba25422a47b5a85757e26cf7a1a1",
       "version_major": 2,
       "version_minor": 0
      },
      "text/plain": [
       "Visits:   0%|          | 0/10000 [00:00<?, ?it/s]"
      ]
     },
     "metadata": {},
     "output_type": "display_data"
    },
    {
     "data": {
      "application/vnd.jupyter.widget-view+json": {
       "model_id": "a7a78e101dab4fb6af855b3cd770b195",
       "version_major": 2,
       "version_minor": 0
      },
      "text/plain": [
       "  0%|          | 0/5 [00:00<?, ?it/s]"
      ]
     },
     "metadata": {},
     "output_type": "display_data"
    },
    {
     "data": {
      "application/vnd.jupyter.widget-view+json": {
       "model_id": "e83e8208ba444dc7ab27db73bdf4d3ab",
       "version_major": 2,
       "version_minor": 0
      },
      "text/plain": [
       "Visits:   0%|          | 0/10000 [00:00<?, ?it/s]"
      ]
     },
     "metadata": {},
     "output_type": "display_data"
    },
    {
     "data": {
      "application/vnd.jupyter.widget-view+json": {
       "model_id": "2778bac9397d41829885114a5653b7df",
       "version_major": 2,
       "version_minor": 0
      },
      "text/plain": [
       "Visits:   0%|          | 0/10000 [00:00<?, ?it/s]"
      ]
     },
     "metadata": {},
     "output_type": "display_data"
    },
    {
     "data": {
      "application/vnd.jupyter.widget-view+json": {
       "model_id": "0db88cc7a48143ff879a5bd35aa772a0",
       "version_major": 2,
       "version_minor": 0
      },
      "text/plain": [
       "Visits:   0%|          | 0/10000 [00:00<?, ?it/s]"
      ]
     },
     "metadata": {},
     "output_type": "display_data"
    },
    {
     "data": {
      "application/vnd.jupyter.widget-view+json": {
       "model_id": "19acbe3d907e4bd7900e55cac41610d7",
       "version_major": 2,
       "version_minor": 0
      },
      "text/plain": [
       "Visits:   0%|          | 0/10000 [00:00<?, ?it/s]"
      ]
     },
     "metadata": {},
     "output_type": "display_data"
    },
    {
     "data": {
      "application/vnd.jupyter.widget-view+json": {
       "model_id": "281192a303904fc081e66e25b4b1433f",
       "version_major": 2,
       "version_minor": 0
      },
      "text/plain": [
       "Visits:   0%|          | 0/10000 [00:00<?, ?it/s]"
      ]
     },
     "metadata": {},
     "output_type": "display_data"
    },
    {
     "data": {
      "text/html": [
       "<div>\n",
       "<style scoped>\n",
       "    .dataframe tbody tr th:only-of-type {\n",
       "        vertical-align: middle;\n",
       "    }\n",
       "\n",
       "    .dataframe tbody tr th {\n",
       "        vertical-align: top;\n",
       "    }\n",
       "\n",
       "    .dataframe thead th {\n",
       "        text-align: right;\n",
       "    }\n",
       "</style>\n",
       "<table border=\"1\" class=\"dataframe\">\n",
       "  <thead>\n",
       "    <tr style=\"text-align: right;\">\n",
       "      <th></th>\n",
       "      <th>iteration</th>\n",
       "      <th>visit</th>\n",
       "      <th>item_id</th>\n",
       "      <th>visitor_id</th>\n",
       "      <th>reward</th>\n",
       "      <th>total_reward</th>\n",
       "      <th>fraction_relevant</th>\n",
       "    </tr>\n",
       "  </thead>\n",
       "  <tbody>\n",
       "    <tr>\n",
       "      <th>0</th>\n",
       "      <td>0</td>\n",
       "      <td>0</td>\n",
       "      <td>871</td>\n",
       "      <td>72</td>\n",
       "      <td>True</td>\n",
       "      <td>1</td>\n",
       "      <td>1.000000</td>\n",
       "    </tr>\n",
       "    <tr>\n",
       "      <th>1</th>\n",
       "      <td>0</td>\n",
       "      <td>1</td>\n",
       "      <td>6</td>\n",
       "      <td>200</td>\n",
       "      <td>True</td>\n",
       "      <td>2</td>\n",
       "      <td>1.000000</td>\n",
       "    </tr>\n",
       "    <tr>\n",
       "      <th>2</th>\n",
       "      <td>0</td>\n",
       "      <td>2</td>\n",
       "      <td>1040</td>\n",
       "      <td>491</td>\n",
       "      <td>False</td>\n",
       "      <td>2</td>\n",
       "      <td>0.666667</td>\n",
       "    </tr>\n",
       "    <tr>\n",
       "      <th>3</th>\n",
       "      <td>0</td>\n",
       "      <td>3</td>\n",
       "      <td>119</td>\n",
       "      <td>657</td>\n",
       "      <td>True</td>\n",
       "      <td>3</td>\n",
       "      <td>0.750000</td>\n",
       "    </tr>\n",
       "    <tr>\n",
       "      <th>4</th>\n",
       "      <td>0</td>\n",
       "      <td>4</td>\n",
       "      <td>329</td>\n",
       "      <td>151</td>\n",
       "      <td>True</td>\n",
       "      <td>4</td>\n",
       "      <td>0.800000</td>\n",
       "    </tr>\n",
       "  </tbody>\n",
       "</table>\n",
       "</div>"
      ],
      "text/plain": [
       "   iteration  visit  item_id  visitor_id  reward  total_reward  \\\n",
       "0          0      0      871          72    True             1   \n",
       "1          0      1        6         200    True             2   \n",
       "2          0      2     1040         491   False             2   \n",
       "3          0      3      119         657    True             3   \n",
       "4          0      4      329         151    True             4   \n",
       "\n",
       "   fraction_relevant  \n",
       "0           1.000000  \n",
       "1           1.000000  \n",
       "2           0.666667  \n",
       "3           0.750000  \n",
       "4           0.800000  "
      ]
     },
     "execution_count": 63,
     "metadata": {},
     "output_type": "execute_result"
    }
   ],
   "source": [
    "n_visits = 10000\n",
    "n_iterations = 5\n",
    "\n",
    "reward_history = rating_df\n",
    "item_col_name = \"item_id\"\n",
    "visitor_col_name = \"user_id\"\n",
    "reward_col_name = \"response\"\n",
    "\n",
    "epsilon = 0.05\n",
    "epsilon_005_results = EpsilonGreedyReplayer(\n",
    "    epsilon,\n",
    "    n_visits,\n",
    "    reward_history,\n",
    "    item_col_name,\n",
    "    visitor_col_name,\n",
    "    reward_col_name,\n",
    "    n_iterations=n_iterations,\n",
    ").replay()\n",
    "epsilon_005_results_df = pd.DataFrame(epsilon_005_results)\n",
    "epsilon_005_results_df.head()\n",
    "\n",
    "epsilon = 0.1\n",
    "epsilon_01_results = EpsilonGreedyReplayer(\n",
    "    epsilon,\n",
    "    n_visits,\n",
    "    reward_history,\n",
    "    item_col_name,\n",
    "    visitor_col_name,\n",
    "    reward_col_name,\n",
    "    n_iterations=n_iterations,\n",
    ").replay()\n",
    "\n",
    "epsilon_01_results_df = pd.DataFrame(epsilon_01_results)\n",
    "epsilon_01_results_df.head()\n",
    "random_results = RandomReplayer(\n",
    "    n_visits,\n",
    "    reward_history,\n",
    "    item_col_name,\n",
    "    visitor_col_name,\n",
    "    reward_col_name,\n",
    "    n_iterations=n_iterations,\n",
    ").replay()\n",
    "\n",
    "random_df = pd.DataFrame(random_results)\n",
    "random_df.head()\n",
    "\n",
    "ts_replayer = ThompsonSamplingReplayer(\n",
    "    n_visits,\n",
    "    reward_history,\n",
    "    item_col_name,\n",
    "    visitor_col_name,\n",
    "    reward_col_name,\n",
    "    n_iterations=n_iterations,\n",
    ").replay()\n",
    "\n",
    "ts_df = pd.DataFrame(ts_replayer)\n",
    "ts_df.head()"
   ]
  },
  {
   "cell_type": "code",
   "execution_count": 64,
   "metadata": {},
   "outputs": [],
   "source": [
    "epsilon_005_avg_results_df = epsilon_005_results_df.groupby(\n",
    "    \"visit\", as_index=False\n",
    ").mean()\n",
    "epsilon_01_avg_results_df = epsilon_01_results_df.groupby(\n",
    "    \"visit\", as_index=False\n",
    ").mean()\n",
    "random_avg_results = random_df.groupby(\"visit\", as_index=False).mean()\n",
    "ts_avg_results = ts_df.groupby(\"visit\", as_index=False).mean()"
   ]
  },
  {
   "cell_type": "code",
   "execution_count": 72,
   "metadata": {},
   "outputs": [
    {
     "data": {
      "image/png": "[encoded data removed]",
      "text/plain": [
       "<Figure size 432x288 with 1 Axes>"
      ]
     },
     "metadata": {
      "needs_background": "light"
     },
     "output_type": "display_data"
    }
   ],
   "source": [
    "fig, ax = plt.subplots()\n",
    "sns.lineplot(\n",
    "    data=epsilon_01_avg_results_df,\n",
    "    x=\"visit\",\n",
    "    y=\"total_reward\",\n",
    "    label=\"Epsilon greedy 0.1\",\n",
    "    ax=ax,\n",
    ")\n",
    "sns.lineplot(\n",
    "    data=epsilon_005_avg_results_df,\n",
    "    x=\"visit\",\n",
    "    y=\"total_reward\",\n",
    "    label=\"Epsilon greedy 0.05\",\n",
    "    ax=ax,\n",
    ")\n",
    "sns.lineplot(\n",
    "    data=random_avg_results,\n",
    "    x=\"visit\",\n",
    "    y=\"total_reward\",\n",
    "    label=\"Random\",\n",
    "    ax=ax,\n",
    ")\n",
    "sns.lineplot(\n",
    "    data=ts_avg_results,\n",
    "    x=\"visit\",\n",
    "    y=\"total_reward\",\n",
    "    label=\"Thompson Sampling\",\n",
    "    ax=ax,\n",
    ")\n",
    "ax.set_yscale(\"log\")"
   ]
  },
  {
   "cell_type": "markdown",
   "metadata": {},
   "source": [
    "With MAB2rec"
   ]
  },
  {
   "cell_type": "code",
   "execution_count": 36,
   "metadata": {},
   "outputs": [],
   "source": [
    "from jurity.recommenders import BinaryRecoMetrics, RankingRecoMetrics\n",
    "\n",
    "# Column names for the response, user, and item id columns\n",
    "metric_params = {\n",
    "    \"click_column\": \"score\",\n",
    "    \"user_id_column\": \"user_id\",\n",
    "    \"item_id_column\": \"item_id\",\n",
    "}\n",
    "\n",
    "# Evaluate peformance at different k-recommendations\n",
    "top_k_list = [3, 5, 10]\n",
    "\n",
    "# List of metrics to benchmark\n",
    "metrics = []\n",
    "for k in top_k_list:\n",
    "    metrics.append(BinaryRecoMetrics.AUC(**metric_params, k=k))\n",
    "    metrics.append(BinaryRecoMetrics.CTR(**metric_params, k=k))\n",
    "    metrics.append(RankingRecoMetrics.Precision(**metric_params, k=k))\n",
    "    metrics.append(RankingRecoMetrics.Recall(**metric_params, k=k))\n"
   ]
  },
  {
   "cell_type": "code",
   "execution_count": 39,
   "metadata": {},
   "outputs": [
    {
     "name": "stderr",
     "output_type": "stream",
     "text": [
      "/home/tlefort/condaenvs/phd/lib/python3.9/site-packages/numpy/core/fromnumeric.py:59: FutureWarning: 'DataFrame.swapaxes' is deprecated and will be removed in a future version. Please use 'DataFrame.transpose' instead.\n",
      "  return bound(*args, **kwds)\n",
      "/home/tlefort/condaenvs/phd/lib/python3.9/site-packages/jurity/recommenders/precision.py:30: FutureWarning: Downcasting object dtype arrays on .fillna, .ffill, .bfill is deprecated and will change in a future version. Call result.infer_objects(copy=False) instead. To opt-in to the future behavior, set `pd.set_option('future.no_silent_downcasting', True)`\n",
      "  merged = merged.fillna(False)\n",
      "/home/tlefort/condaenvs/phd/lib/python3.9/site-packages/jurity/recommenders/precision.py:30: FutureWarning: Downcasting object dtype arrays on .fillna, .ffill, .bfill is deprecated and will change in a future version. Call result.infer_objects(copy=False) instead. To opt-in to the future behavior, set `pd.set_option('future.no_silent_downcasting', True)`\n",
      "  merged = merged.fillna(False)\n",
      "/home/tlefort/condaenvs/phd/lib/python3.9/site-packages/jurity/recommenders/precision.py:30: FutureWarning: Downcasting object dtype arrays on .fillna, .ffill, .bfill is deprecated and will change in a future version. Call result.infer_objects(copy=False) instead. To opt-in to the future behavior, set `pd.set_option('future.no_silent_downcasting', True)`\n",
      "  merged = merged.fillna(False)\n",
      "/home/tlefort/condaenvs/phd/lib/python3.9/site-packages/numpy/core/fromnumeric.py:59: FutureWarning: 'DataFrame.swapaxes' is deprecated and will be removed in a future version. Please use 'DataFrame.transpose' instead.\n",
      "  return bound(*args, **kwds)\n",
      "/home/tlefort/condaenvs/phd/lib/python3.9/site-packages/jurity/recommenders/precision.py:30: FutureWarning: Downcasting object dtype arrays on .fillna, .ffill, .bfill is deprecated and will change in a future version. Call result.infer_objects(copy=False) instead. To opt-in to the future behavior, set `pd.set_option('future.no_silent_downcasting', True)`\n",
      "  merged = merged.fillna(False)\n",
      "/home/tlefort/condaenvs/phd/lib/python3.9/site-packages/jurity/recommenders/precision.py:30: FutureWarning: Downcasting object dtype arrays on .fillna, .ffill, .bfill is deprecated and will change in a future version. Call result.infer_objects(copy=False) instead. To opt-in to the future behavior, set `pd.set_option('future.no_silent_downcasting', True)`\n",
      "  merged = merged.fillna(False)\n",
      "/home/tlefort/condaenvs/phd/lib/python3.9/site-packages/jurity/recommenders/precision.py:30: FutureWarning: Downcasting object dtype arrays on .fillna, .ffill, .bfill is deprecated and will change in a future version. Call result.infer_objects(copy=False) instead. To opt-in to the future behavior, set `pd.set_option('future.no_silent_downcasting', True)`\n",
      "  merged = merged.fillna(False)\n",
      "/home/tlefort/condaenvs/phd/lib/python3.9/site-packages/numpy/core/fromnumeric.py:59: FutureWarning: 'DataFrame.swapaxes' is deprecated and will be removed in a future version. Please use 'DataFrame.transpose' instead.\n",
      "  return bound(*args, **kwds)\n",
      "/home/tlefort/condaenvs/phd/lib/python3.9/site-packages/jurity/recommenders/precision.py:30: FutureWarning: Downcasting object dtype arrays on .fillna, .ffill, .bfill is deprecated and will change in a future version. Call result.infer_objects(copy=False) instead. To opt-in to the future behavior, set `pd.set_option('future.no_silent_downcasting', True)`\n",
      "  merged = merged.fillna(False)\n",
      "/home/tlefort/condaenvs/phd/lib/python3.9/site-packages/jurity/recommenders/precision.py:30: FutureWarning: Downcasting object dtype arrays on .fillna, .ffill, .bfill is deprecated and will change in a future version. Call result.infer_objects(copy=False) instead. To opt-in to the future behavior, set `pd.set_option('future.no_silent_downcasting', True)`\n",
      "  merged = merged.fillna(False)\n",
      "/home/tlefort/condaenvs/phd/lib/python3.9/site-packages/jurity/recommenders/precision.py:30: FutureWarning: Downcasting object dtype arrays on .fillna, .ffill, .bfill is deprecated and will change in a future version. Call result.infer_objects(copy=False) instead. To opt-in to the future behavior, set `pd.set_option('future.no_silent_downcasting', True)`\n",
      "  merged = merged.fillna(False)\n",
      "/home/tlefort/condaenvs/phd/lib/python3.9/site-packages/numpy/core/fromnumeric.py:59: FutureWarning: 'DataFrame.swapaxes' is deprecated and will be removed in a future version. Please use 'DataFrame.transpose' instead.\n",
      "  return bound(*args, **kwds)\n",
      "/home/tlefort/condaenvs/phd/lib/python3.9/site-packages/jurity/recommenders/precision.py:30: FutureWarning: Downcasting object dtype arrays on .fillna, .ffill, .bfill is deprecated and will change in a future version. Call result.infer_objects(copy=False) instead. To opt-in to the future behavior, set `pd.set_option('future.no_silent_downcasting', True)`\n",
      "  merged = merged.fillna(False)\n",
      "/home/tlefort/condaenvs/phd/lib/python3.9/site-packages/jurity/recommenders/precision.py:30: FutureWarning: Downcasting object dtype arrays on .fillna, .ffill, .bfill is deprecated and will change in a future version. Call result.infer_objects(copy=False) instead. To opt-in to the future behavior, set `pd.set_option('future.no_silent_downcasting', True)`\n",
      "  merged = merged.fillna(False)\n",
      "/home/tlefort/condaenvs/phd/lib/python3.9/site-packages/jurity/recommenders/precision.py:30: FutureWarning: Downcasting object dtype arrays on .fillna, .ffill, .bfill is deprecated and will change in a future version. Call result.infer_objects(copy=False) instead. To opt-in to the future behavior, set `pd.set_option('future.no_silent_downcasting', True)`\n",
      "  merged = merged.fillna(False)\n"
     ]
    }
   ],
   "source": [
    "from mab2rec.pipeline import benchmark\n",
    "from mab2rec import BanditRecommender, LearningPolicy, NeighborhoodPolicy\n",
    "\n",
    "recommenders = {\n",
    "    \"Random\": BanditRecommender(learning_policy=LearningPolicy.Random()),\n",
    "    \"LinGreedy\": BanditRecommender(\n",
    "        learning_policy=LearningPolicy.LinGreedy(epsilon=0.1)\n",
    "    ),\n",
    "    \"LinTS\": BanditRecommender(learning_policy=LearningPolicy.LinTS()),\n",
    "    \"ClustersTS\": BanditRecommender(\n",
    "        learning_policy=LearningPolicy.ThompsonSampling(),\n",
    "        neighborhood_policy=NeighborhoodPolicy.Clusters(n_clusters=10),\n",
    "    ),\n",
    "}\n",
    "reco_to_results, reco_to_metrics = benchmark(\n",
    "    recommenders,\n",
    "    metrics=metrics,\n",
    "    train_data=\"./simulated_data/train_log_plantnet.csv\",\n",
    "    test_data=\"./simulated_data/test_log_plantnet.csv\",\n",
    "    user_features=\"./simulated_data/user_features_plantnet.csv\",\n",
    ")"
   ]
  },
  {
   "cell_type": "code",
   "execution_count": 40,
   "metadata": {},
   "outputs": [
    {
     "data": {
      "text/plain": [
       "<seaborn.axisgrid.FacetGrid at 0x7476c8bff7c0>"
      ]
     },
     "execution_count": 40,
     "metadata": {},
     "output_type": "execute_result"
    },
    {
     "data": {
      "image/png": "[encoded data removed]",
      "text/plain": [
       "<Figure size 809x720 with 4 Axes>"
      ]
     },
     "metadata": {
      "needs_background": "light"
     },
     "output_type": "display_data"
    }
   ],
   "source": [
    "from mab2rec.visualization import plot_metrics_at_k\n",
    "plot_metrics_at_k(reco_to_metrics, col_wrap=2)"
   ]
  },
  {
   "cell_type": "code",
   "execution_count": 45,
   "metadata": {},
   "outputs": [
    {
     "data": {
      "text/plain": [
       "dict_keys(['rng', 'arms', 'n_jobs', 'backend', 'arm_to_expectation', 'arm_to_status', 'alpha', 'epsilon', 'l2_lambda', 'regression', 'scale', 'num_features', 'arm_to_model'])"
      ]
     },
     "execution_count": 45,
     "metadata": {},
     "output_type": "execute_result"
    }
   ],
   "source": [
    "recommenders[\"LinGreedy\"].mab._imp.__dict__.keys()"
   ]
  },
  {
   "cell_type": "code",
   "execution_count": 68,
   "metadata": {},
   "outputs": [
    {
     "name": "stdout",
     "output_type": "stream",
     "text": [
      "Number of rows: 140,262\n",
      "Number of users: 707\n",
      "Number of items: 1,577\n",
      "Mean response rate: 0.9431\n",
      "\n"
     ]
    }
   ],
   "source": [
    "from mab2rec.utils import print_interaction_stats\n",
    "print_interaction_stats(train_log)"
   ]
  },
  {
   "cell_type": "code",
   "execution_count": null,
   "metadata": {},
   "outputs": [],
   "source": []
  }
 ],
 "metadata": {
  "kernelspec": {
   "display_name": "Python 3",
   "language": "python",
   "name": "python3"
  },
  "language_info": {
   "codemirror_mode": {
    "name": "ipython",
    "version": 3
   },
   "file_extension": ".py",
   "mimetype": "text/x-python",
   "name": "python",
   "nbconvert_exporter": "python",
   "pygments_lexer": "ipython3",
   "version": "3.9.12"
  }
 },
 "nbformat": 4,
 "nbformat_minor": 2
}
